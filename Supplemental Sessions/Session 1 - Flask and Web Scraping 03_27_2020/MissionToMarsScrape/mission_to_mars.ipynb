{
 "cells": [
  {
   "cell_type": "code",
   "execution_count": 1,
   "metadata": {},
   "outputs": [],
   "source": [
    "from splinter import Browser\n",
    "from bs4 import BeautifulSoup\n",
    "import requests\n",
    "import pandas as pd\n",
    "import time"
   ]
  },
  {
   "cell_type": "code",
   "execution_count": 2,
   "metadata": {},
   "outputs": [],
   "source": [
    "# Set up connection to chrome driver.\n",
    "executable_path = {'executable_path': 'chromedriver.exe'}\n",
    "browser = Browser('chrome', **executable_path, headless=False)"
   ]
  },
  {
   "cell_type": "code",
   "execution_count": 8,
   "metadata": {},
   "outputs": [],
   "source": [
    "#Visits the news page to retrieve latest news title/paragraph.\n",
    "url='https://mars.nasa.gov/news/'\n",
    "browser.visit(url)\n",
    "#Converts html to BS object.\n",
    "time.sleep(3)\n",
    "html=browser.html\n",
    "soup = BeautifulSoup(html, 'html.parser')"
   ]
  },
  {
   "cell_type": "code",
   "execution_count": 9,
   "metadata": {},
   "outputs": [],
   "source": [
    "#Gets the latest News Article with their title and paragraph.\n",
    "LatestArt=soup.find('li',class_=\"slide\")\n",
    "\n",
    "LatTitle = LatestArt.find('div',class_='content_title').text\n",
    "LatPara = LatestArt.find('div',class_='article_teaser_body').text\n"
   ]
  },
  {
   "cell_type": "code",
   "execution_count": 10,
   "metadata": {},
   "outputs": [
    {
     "data": {
      "text/plain": [
       "\"10.9 Million Names Now Aboard NASA's Perseverance Mars Rover\""
      ]
     },
     "execution_count": 10,
     "metadata": {},
     "output_type": "execute_result"
    }
   ],
   "source": [
    "LatTitle"
   ]
  },
  {
   "cell_type": "code",
   "execution_count": 11,
   "metadata": {},
   "outputs": [
    {
     "data": {
      "text/plain": [
       "\"As part of NASA's 'Send Your Name to Mars' campaign, they've been stenciled onto three microchips along with essays from NASA's 'Name the Rover' contest. Next stop: Mars.\""
      ]
     },
     "execution_count": 11,
     "metadata": {},
     "output_type": "execute_result"
    }
   ],
   "source": [
    "LatPara"
   ]
  },
  {
   "cell_type": "code",
   "execution_count": 12,
   "metadata": {},
   "outputs": [],
   "source": [
    "#Visits mars spaces image part of the site.\n",
    "FeatureMarsUrl='https://www.jpl.nasa.gov/spaceimages/?search=&category=Mars'\n",
    "browser.visit(FeatureMarsUrl)\n",
    "time.sleep(3)\n",
    "html=browser.html\n",
    "soup = BeautifulSoup(html, 'html.parser')\n",
    "\n",
    "FeatElement=soup.find('div',class_='carousel_items')\n"
   ]
  },
  {
   "cell_type": "code",
   "execution_count": 20,
   "metadata": {},
   "outputs": [
    {
     "data": {
      "text/plain": [
       "['background-image: url(',\n",
       " '/spaceimages/images/wallpaper/PIA16105-1920x1200.jpg',\n",
       " ');']"
      ]
     },
     "execution_count": 20,
     "metadata": {},
     "output_type": "execute_result"
    }
   ],
   "source": [
    "FeatElement.article['style'].split('\\'')"
   ]
  },
  {
   "cell_type": "code",
   "execution_count": 19,
   "metadata": {},
   "outputs": [
    {
     "data": {
      "text/plain": [
       "'https://www.jpl.nasa.gov/spaceimages/images/wallpaper/PIA16105-1920x1200.jpg'"
      ]
     },
     "execution_count": 19,
     "metadata": {},
     "output_type": "execute_result"
    }
   ],
   "source": [
    "#Retrieves the String of the featured space image and joins the strings to get the correct url.\n",
    "\n",
    "StartUrl='https://www.jpl.nasa.gov'\n",
    "\n",
    "#Cleans ups the string element to retrieve the correct ending url for image.\n",
    "SplitUp=FeatElement.article['style'].split('\\'')\n",
    "EndImgUrl=SplitUp[1]\n",
    "\n",
    "featured_image_url = StartUrl+EndImgUrl\n",
    "featured_image_url"
   ]
  },
  {
   "cell_type": "code",
   "execution_count": 24,
   "metadata": {},
   "outputs": [],
   "source": [
    "#Sets up visit to twitter.\n",
    "TwitterMarsUrl='https://twitter.com/marswxreport?lang=en'\n",
    "browser.visit(TwitterMarsUrl)\n"
   ]
  },
  {
   "cell_type": "code",
   "execution_count": null,
   "metadata": {},
   "outputs": [],
   "source": [
    "#Scrolls down page.\n",
    "browser.execute_script(\"window.scrollTo(0, 3000);\")"
   ]
  },
  {
   "cell_type": "code",
   "execution_count": 6,
   "metadata": {},
   "outputs": [],
   "source": [
    "#Grabs the html at the current loaded window.\n",
    "html=browser.html\n",
    "soup = BeautifulSoup(html, 'html.parser')"
   ]
  },
  {
   "cell_type": "code",
   "execution_count": 7,
   "metadata": {},
   "outputs": [],
   "source": [
    "spanned=soup.find_all('span')\n",
    "\n",
    "counter =0\n",
    "for span in spanned:\n",
    "    if 'InSight sol ' in span.text:\n",
    "        text=span.text\n",
    "        break\n",
    "        \n",
    "        "
   ]
  },
  {
   "cell_type": "code",
   "execution_count": 25,
   "metadata": {},
   "outputs": [],
   "source": [
    "#Twitter has changed their settings where you to scroll down.\n",
    "#The following will scroll until it finds the text you are looking for.\n",
    "\n",
    "# OPTIONAL!!!!!!!!!!!!!!!!!!!!!!!!!!!!!!!!!!!!!!\n",
    "\n",
    "#------------------------------------------\n",
    "html=browser.html\n",
    "soup = BeautifulSoup(html, 'html.parser')\n",
    "\n",
    "spanned=soup.find_all('span')\n",
    "\n",
    "for span in spanned:\n",
    "    if ('InSight sol ' in span.text):\n",
    "        text=span.text\n",
    "        break\n",
    "    else:\n",
    "        text= 'blah'\n",
    "\n",
    "while('InSight sol ' not in text):      #x-scroll,y-scroll \n",
    "    browser.execute_script(\"window.scrollTo(0, 3000);\")\n",
    "    time.sleep(2)\n",
    "    html=browser.html\n",
    "    soup = BeautifulSoup(html, 'html.parser')\n",
    "\n",
    "    spanned=soup.find_all('span')\n",
    "\n",
    "    for span in spanned:\n",
    "        if ('InSight sol ' in span.text):\n",
    "            text=span.text\n",
    "            break\n",
    "        else:\n",
    "            text='blah'\n",
    "\n",
    "# OPTIONAL!!!!!!!!!!!!!!!!!!!!!!!!!!!!!!!!!!!!!!\n",
    "\n",
    "#------------------------------------------            "
   ]
  },
  {
   "cell_type": "code",
   "execution_count": 12,
   "metadata": {},
   "outputs": [],
   "source": [
    "#Grabs the martian facts table.\n",
    "MarsFacts_url = 'https://space-facts.com/mars/'\n",
    "tables = pd.read_html(MarsFacts_url)"
   ]
  },
  {
   "cell_type": "code",
   "execution_count": 13,
   "metadata": {},
   "outputs": [],
   "source": [
    "#Saves table of interest as an html string.\n",
    "FactsTable=tables[0].rename(columns={0: 'Type', 1: 'Fact'})\n",
    "FactsTable.set_index('Type',inplace=True)\n",
    "MartianHTML_table = FactsTable.to_html()\n"
   ]
  },
  {
   "cell_type": "code",
   "execution_count": 14,
   "metadata": {},
   "outputs": [
    {
     "data": {
      "text/html": [
       "<div>\n",
       "<style scoped>\n",
       "    .dataframe tbody tr th:only-of-type {\n",
       "        vertical-align: middle;\n",
       "    }\n",
       "\n",
       "    .dataframe tbody tr th {\n",
       "        vertical-align: top;\n",
       "    }\n",
       "\n",
       "    .dataframe thead th {\n",
       "        text-align: right;\n",
       "    }\n",
       "</style>\n",
       "<table border=\"1\" class=\"dataframe\">\n",
       "  <thead>\n",
       "    <tr style=\"text-align: right;\">\n",
       "      <th></th>\n",
       "      <th>Fact</th>\n",
       "    </tr>\n",
       "    <tr>\n",
       "      <th>Type</th>\n",
       "      <th></th>\n",
       "    </tr>\n",
       "  </thead>\n",
       "  <tbody>\n",
       "    <tr>\n",
       "      <th>Equatorial Diameter:</th>\n",
       "      <td>6,792 km</td>\n",
       "    </tr>\n",
       "    <tr>\n",
       "      <th>Polar Diameter:</th>\n",
       "      <td>6,752 km</td>\n",
       "    </tr>\n",
       "    <tr>\n",
       "      <th>Mass:</th>\n",
       "      <td>6.39 × 10^23 kg (0.11 Earths)</td>\n",
       "    </tr>\n",
       "    <tr>\n",
       "      <th>Moons:</th>\n",
       "      <td>2 (Phobos &amp; Deimos)</td>\n",
       "    </tr>\n",
       "    <tr>\n",
       "      <th>Orbit Distance:</th>\n",
       "      <td>227,943,824 km (1.38 AU)</td>\n",
       "    </tr>\n",
       "    <tr>\n",
       "      <th>Orbit Period:</th>\n",
       "      <td>687 days (1.9 years)</td>\n",
       "    </tr>\n",
       "    <tr>\n",
       "      <th>Surface Temperature:</th>\n",
       "      <td>-87 to -5 °C</td>\n",
       "    </tr>\n",
       "    <tr>\n",
       "      <th>First Record:</th>\n",
       "      <td>2nd millennium BC</td>\n",
       "    </tr>\n",
       "    <tr>\n",
       "      <th>Recorded By:</th>\n",
       "      <td>Egyptian astronomers</td>\n",
       "    </tr>\n",
       "  </tbody>\n",
       "</table>\n",
       "</div>"
      ],
      "text/plain": [
       "                                               Fact\n",
       "Type                                               \n",
       "Equatorial Diameter:                       6,792 km\n",
       "Polar Diameter:                            6,752 km\n",
       "Mass:                 6.39 × 10^23 kg (0.11 Earths)\n",
       "Moons:                          2 (Phobos & Deimos)\n",
       "Orbit Distance:            227,943,824 km (1.38 AU)\n",
       "Orbit Period:                  687 days (1.9 years)\n",
       "Surface Temperature:                   -87 to -5 °C\n",
       "First Record:                     2nd millennium BC\n",
       "Recorded By:                   Egyptian astronomers"
      ]
     },
     "execution_count": 14,
     "metadata": {},
     "output_type": "execute_result"
    }
   ],
   "source": [
    "FactsTable"
   ]
  },
  {
   "cell_type": "code",
   "execution_count": 15,
   "metadata": {},
   "outputs": [],
   "source": [
    "#Creates a list of dictionaries of each hemisphere of Mars.\n",
    "\n",
    "HemiUrl ='https://astrogeology.usgs.gov/search/results?q=hemisphere+enhanced&k1=target&v1=Mars'\n",
    "\n",
    "ListsOfHemi=['Cerberus','Schiaparelli','Syrtis','Valles']\n",
    "HemiImgList = []\n",
    "\n",
    "for Hemi in ListsOfHemi:\n",
    "    browser.visit(HemiUrl)\n",
    "    browser.click_link_by_partial_text(Hemi)\n",
    "    soup = BeautifulSoup(browser.html, 'html.parser')\n",
    "    imgurl=soup.find('a',text='Sample')['href']\n",
    "    HemiImgList.append(imgurl)\n",
    "\n",
    "\n",
    "hemisphere_image_urls = [\n",
    "    {\"title\": \"Cerberus Hemisphere\", \"img_url\": HemiImgList[0]},\n",
    "    {\"title\": \"Schiaparelli Hemisphere\", \"img_url\": HemiImgList[1]},\n",
    "    {\"title\": \"Syrtis Major Hemisphere\", \"img_url\": HemiImgList[2]},\n",
    "    {\"title\": \"Valles Marineris Hemisphere\", \"img_url\": HemiImgList[3]}\n",
    "]\n"
   ]
  },
  {
   "cell_type": "code",
   "execution_count": null,
   "metadata": {},
   "outputs": [],
   "source": []
  }
 ],
 "metadata": {
  "kernelspec": {
   "display_name": "Python 3",
   "language": "python",
   "name": "python3"
  },
  "language_info": {
   "codemirror_mode": {
    "name": "ipython",
    "version": 3
   },
   "file_extension": ".py",
   "mimetype": "text/x-python",
   "name": "python",
   "nbconvert_exporter": "python",
   "pygments_lexer": "ipython3",
   "version": "3.7.4"
  }
 },
 "nbformat": 4,
 "nbformat_minor": 4
}
