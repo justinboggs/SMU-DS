{
 "cells": [
  {
   "cell_type": "code",
   "execution_count": 26,
   "metadata": {},
   "outputs": [],
   "source": [
    "import plotly.express as px\n",
    "import pandas as pd\n",
    "import numpy as np\n",
    "import json\n",
    "import numpy as np"
   ]
  },
  {
   "cell_type": "code",
   "execution_count": 29,
   "metadata": {},
   "outputs": [
    {
     "data": {
      "text/html": [
       "<div>\n",
       "<style scoped>\n",
       "    .dataframe tbody tr th:only-of-type {\n",
       "        vertical-align: middle;\n",
       "    }\n",
       "\n",
       "    .dataframe tbody tr th {\n",
       "        vertical-align: top;\n",
       "    }\n",
       "\n",
       "    .dataframe thead th {\n",
       "        text-align: right;\n",
       "    }\n",
       "</style>\n",
       "<table border=\"1\" class=\"dataframe\">\n",
       "  <thead>\n",
       "    <tr style=\"text-align: right;\">\n",
       "      <th></th>\n",
       "      <th>sepal_length</th>\n",
       "      <th>sepal_width</th>\n",
       "      <th>petal_length</th>\n",
       "      <th>petal_width</th>\n",
       "      <th>species</th>\n",
       "      <th>species_id</th>\n",
       "    </tr>\n",
       "  </thead>\n",
       "  <tbody>\n",
       "    <tr>\n",
       "      <th>0</th>\n",
       "      <td>5.1</td>\n",
       "      <td>3.5</td>\n",
       "      <td>1.4</td>\n",
       "      <td>0.2</td>\n",
       "      <td>setosa</td>\n",
       "      <td>1</td>\n",
       "    </tr>\n",
       "    <tr>\n",
       "      <th>1</th>\n",
       "      <td>4.9</td>\n",
       "      <td>3.0</td>\n",
       "      <td>1.4</td>\n",
       "      <td>0.2</td>\n",
       "      <td>setosa</td>\n",
       "      <td>1</td>\n",
       "    </tr>\n",
       "    <tr>\n",
       "      <th>4</th>\n",
       "      <td>5.0</td>\n",
       "      <td>3.6</td>\n",
       "      <td>1.4</td>\n",
       "      <td>0.2</td>\n",
       "      <td>setosa</td>\n",
       "      <td>1</td>\n",
       "    </tr>\n",
       "    <tr>\n",
       "      <th>6</th>\n",
       "      <td>4.6</td>\n",
       "      <td>3.4</td>\n",
       "      <td>1.4</td>\n",
       "      <td>0.3</td>\n",
       "      <td>setosa</td>\n",
       "      <td>1</td>\n",
       "    </tr>\n",
       "    <tr>\n",
       "      <th>8</th>\n",
       "      <td>4.4</td>\n",
       "      <td>2.9</td>\n",
       "      <td>1.4</td>\n",
       "      <td>0.2</td>\n",
       "      <td>setosa</td>\n",
       "      <td>1</td>\n",
       "    </tr>\n",
       "    <tr>\n",
       "      <th>12</th>\n",
       "      <td>4.8</td>\n",
       "      <td>3.0</td>\n",
       "      <td>1.4</td>\n",
       "      <td>0.1</td>\n",
       "      <td>setosa</td>\n",
       "      <td>1</td>\n",
       "    </tr>\n",
       "    <tr>\n",
       "      <th>17</th>\n",
       "      <td>5.1</td>\n",
       "      <td>3.5</td>\n",
       "      <td>1.4</td>\n",
       "      <td>0.3</td>\n",
       "      <td>setosa</td>\n",
       "      <td>1</td>\n",
       "    </tr>\n",
       "    <tr>\n",
       "      <th>28</th>\n",
       "      <td>5.2</td>\n",
       "      <td>3.4</td>\n",
       "      <td>1.4</td>\n",
       "      <td>0.2</td>\n",
       "      <td>setosa</td>\n",
       "      <td>1</td>\n",
       "    </tr>\n",
       "    <tr>\n",
       "      <th>33</th>\n",
       "      <td>5.5</td>\n",
       "      <td>4.2</td>\n",
       "      <td>1.4</td>\n",
       "      <td>0.2</td>\n",
       "      <td>setosa</td>\n",
       "      <td>1</td>\n",
       "    </tr>\n",
       "    <tr>\n",
       "      <th>45</th>\n",
       "      <td>4.8</td>\n",
       "      <td>3.0</td>\n",
       "      <td>1.4</td>\n",
       "      <td>0.3</td>\n",
       "      <td>setosa</td>\n",
       "      <td>1</td>\n",
       "    </tr>\n",
       "    <tr>\n",
       "      <th>47</th>\n",
       "      <td>4.6</td>\n",
       "      <td>3.2</td>\n",
       "      <td>1.4</td>\n",
       "      <td>0.2</td>\n",
       "      <td>setosa</td>\n",
       "      <td>1</td>\n",
       "    </tr>\n",
       "    <tr>\n",
       "      <th>49</th>\n",
       "      <td>5.0</td>\n",
       "      <td>3.3</td>\n",
       "      <td>1.4</td>\n",
       "      <td>0.2</td>\n",
       "      <td>setosa</td>\n",
       "      <td>1</td>\n",
       "    </tr>\n",
       "  </tbody>\n",
       "</table>\n",
       "</div>"
      ],
      "text/plain": [
       "    sepal_length  sepal_width  petal_length  petal_width species  species_id\n",
       "0            5.1          3.5           1.4          0.2  setosa           1\n",
       "1            4.9          3.0           1.4          0.2  setosa           1\n",
       "4            5.0          3.6           1.4          0.2  setosa           1\n",
       "6            4.6          3.4           1.4          0.3  setosa           1\n",
       "8            4.4          2.9           1.4          0.2  setosa           1\n",
       "12           4.8          3.0           1.4          0.1  setosa           1\n",
       "17           5.1          3.5           1.4          0.3  setosa           1\n",
       "28           5.2          3.4           1.4          0.2  setosa           1\n",
       "33           5.5          4.2           1.4          0.2  setosa           1\n",
       "45           4.8          3.0           1.4          0.3  setosa           1\n",
       "47           4.6          3.2           1.4          0.2  setosa           1\n",
       "49           5.0          3.3           1.4          0.2  setosa           1"
      ]
     },
     "execution_count": 29,
     "metadata": {},
     "output_type": "execute_result"
    }
   ],
   "source": [
    "#Loads in iris dataset.\n",
    "df = px.data.iris()\n",
    "df"
   ]
  },
  {
   "cell_type": "code",
   "execution_count": 27,
   "metadata": {},
   "outputs": [],
   "source": [
    "#Filtering using np.all\n",
    "ListsOfMask=[df['species'] =='setosa',df['petal_length'] ==1.4]\n",
    "\n",
    "filteredData=df[np.all(ListsOfMask,axis=0)]"
   ]
  },
  {
   "cell_type": "code",
   "execution_count": 30,
   "metadata": {},
   "outputs": [
    {
     "data": {
      "application/vnd.plotly.v1+json": {
       "config": {
        "plotlyServerURL": "https://plot.ly"
       },
       "data": [
        {
         "hoverlabel": {
          "namelength": 0
         },
         "hovertemplate": "species=setosa<br>sepal_width=%{x}<br>sepal_length=%{y}",
         "legendgroup": "setosa",
         "marker": {
          "color": "#636efa",
          "symbol": "circle"
         },
         "mode": "markers",
         "name": "setosa",
         "showlegend": true,
         "type": "scatter",
         "x": [
          3.5,
          3,
          3.2,
          3.1,
          3.6,
          3.9,
          3.4,
          3.4,
          2.9,
          3.1,
          3.7,
          3.4,
          3,
          3,
          4,
          4.4,
          3.9,
          3.5,
          3.8,
          3.8,
          3.4,
          3.7,
          3.6,
          3.3,
          3.4,
          3,
          3.4,
          3.5,
          3.4,
          3.2,
          3.1,
          3.4,
          4.1,
          4.2,
          3.1,
          3.2,
          3.5,
          3.1,
          3,
          3.4,
          3.5,
          2.3,
          3.2,
          3.5,
          3.8,
          3,
          3.8,
          3.2,
          3.7,
          3.3
         ],
         "xaxis": "x",
         "y": [
          5.1,
          4.9,
          4.7,
          4.6,
          5,
          5.4,
          4.6,
          5,
          4.4,
          4.9,
          5.4,
          4.8,
          4.8,
          4.3,
          5.8,
          5.7,
          5.4,
          5.1,
          5.7,
          5.1,
          5.4,
          5.1,
          4.6,
          5.1,
          4.8,
          5,
          5,
          5.2,
          5.2,
          4.7,
          4.8,
          5.4,
          5.2,
          5.5,
          4.9,
          5,
          5.5,
          4.9,
          4.4,
          5.1,
          5,
          4.5,
          4.4,
          5,
          5.1,
          4.8,
          5.1,
          4.6,
          5.3,
          5
         ],
         "yaxis": "y"
        },
        {
         "hoverlabel": {
          "namelength": 0
         },
         "hovertemplate": "species=versicolor<br>sepal_width=%{x}<br>sepal_length=%{y}",
         "legendgroup": "versicolor",
         "marker": {
          "color": "#EF553B",
          "symbol": "circle"
         },
         "mode": "markers",
         "name": "versicolor",
         "showlegend": true,
         "type": "scatter",
         "x": [
          3.2,
          3.2,
          3.1,
          2.3,
          2.8,
          2.8,
          3.3,
          2.4,
          2.9,
          2.7,
          2,
          3,
          2.2,
          2.9,
          2.9,
          3.1,
          3,
          2.7,
          2.2,
          2.5,
          3.2,
          2.8,
          2.5,
          2.8,
          2.9,
          3,
          2.8,
          3,
          2.9,
          2.6,
          2.4,
          2.4,
          2.7,
          2.7,
          3,
          3.4,
          3.1,
          2.3,
          3,
          2.5,
          2.6,
          3,
          2.6,
          2.3,
          2.7,
          3,
          2.9,
          2.9,
          2.5,
          2.8
         ],
         "xaxis": "x",
         "y": [
          7,
          6.4,
          6.9,
          5.5,
          6.5,
          5.7,
          6.3,
          4.9,
          6.6,
          5.2,
          5,
          5.9,
          6,
          6.1,
          5.6,
          6.7,
          5.6,
          5.8,
          6.2,
          5.6,
          5.9,
          6.1,
          6.3,
          6.1,
          6.4,
          6.6,
          6.8,
          6.7,
          6,
          5.7,
          5.5,
          5.5,
          5.8,
          6,
          5.4,
          6,
          6.7,
          6.3,
          5.6,
          5.5,
          5.5,
          6.1,
          5.8,
          5,
          5.6,
          5.7,
          5.7,
          6.2,
          5.1,
          5.7
         ],
         "yaxis": "y"
        },
        {
         "hoverlabel": {
          "namelength": 0
         },
         "hovertemplate": "species=virginica<br>sepal_width=%{x}<br>sepal_length=%{y}",
         "legendgroup": "virginica",
         "marker": {
          "color": "#00cc96",
          "symbol": "circle"
         },
         "mode": "markers",
         "name": "virginica",
         "showlegend": true,
         "type": "scatter",
         "x": [
          3.3,
          2.7,
          3,
          2.9,
          3,
          3,
          2.5,
          2.9,
          2.5,
          3.6,
          3.2,
          2.7,
          3,
          2.5,
          2.8,
          3.2,
          3,
          3.8,
          2.6,
          2.2,
          3.2,
          2.8,
          2.8,
          2.7,
          3.3,
          3.2,
          2.8,
          3,
          2.8,
          3,
          2.8,
          3.8,
          2.8,
          2.8,
          2.6,
          3,
          3.4,
          3.1,
          3,
          3.1,
          3.1,
          3.1,
          2.7,
          3.2,
          3.3,
          3,
          2.5,
          3,
          3.4,
          3
         ],
         "xaxis": "x",
         "y": [
          6.3,
          5.8,
          7.1,
          6.3,
          6.5,
          7.6,
          4.9,
          7.3,
          6.7,
          7.2,
          6.5,
          6.4,
          6.8,
          5.7,
          5.8,
          6.4,
          6.5,
          7.7,
          7.7,
          6,
          6.9,
          5.6,
          7.7,
          6.3,
          6.7,
          7.2,
          6.2,
          6.1,
          6.4,
          7.2,
          7.4,
          7.9,
          6.4,
          6.3,
          6.1,
          7.7,
          6.3,
          6.4,
          6,
          6.9,
          6.7,
          6.9,
          5.8,
          6.8,
          6.7,
          6.7,
          6.3,
          6.5,
          6.2,
          5.9
         ],
         "yaxis": "y"
        }
       ],
       "layout": {
        "autosize": true,
        "legend": {
         "title": {
          "text": "species"
         },
         "tracegroupgap": 0
        },
        "margin": {
         "t": 60
        },
        "template": {
         "data": {
          "bar": [
           {
            "error_x": {
             "color": "#2a3f5f"
            },
            "error_y": {
             "color": "#2a3f5f"
            },
            "marker": {
             "line": {
              "color": "#E5ECF6",
              "width": 0.5
             }
            },
            "type": "bar"
           }
          ],
          "barpolar": [
           {
            "marker": {
             "line": {
              "color": "#E5ECF6",
              "width": 0.5
             }
            },
            "type": "barpolar"
           }
          ],
          "carpet": [
           {
            "aaxis": {
             "endlinecolor": "#2a3f5f",
             "gridcolor": "white",
             "linecolor": "white",
             "minorgridcolor": "white",
             "startlinecolor": "#2a3f5f"
            },
            "baxis": {
             "endlinecolor": "#2a3f5f",
             "gridcolor": "white",
             "linecolor": "white",
             "minorgridcolor": "white",
             "startlinecolor": "#2a3f5f"
            },
            "type": "carpet"
           }
          ],
          "choropleth": [
           {
            "colorbar": {
             "outlinewidth": 0,
             "ticks": ""
            },
            "type": "choropleth"
           }
          ],
          "contour": [
           {
            "colorbar": {
             "outlinewidth": 0,
             "ticks": ""
            },
            "colorscale": [
             [
              0,
              "#0d0887"
             ],
             [
              0.1111111111111111,
              "#46039f"
             ],
             [
              0.2222222222222222,
              "#7201a8"
             ],
             [
              0.3333333333333333,
              "#9c179e"
             ],
             [
              0.4444444444444444,
              "#bd3786"
             ],
             [
              0.5555555555555556,
              "#d8576b"
             ],
             [
              0.6666666666666666,
              "#ed7953"
             ],
             [
              0.7777777777777778,
              "#fb9f3a"
             ],
             [
              0.8888888888888888,
              "#fdca26"
             ],
             [
              1,
              "#f0f921"
             ]
            ],
            "type": "contour"
           }
          ],
          "contourcarpet": [
           {
            "colorbar": {
             "outlinewidth": 0,
             "ticks": ""
            },
            "type": "contourcarpet"
           }
          ],
          "heatmap": [
           {
            "colorbar": {
             "outlinewidth": 0,
             "ticks": ""
            },
            "colorscale": [
             [
              0,
              "#0d0887"
             ],
             [
              0.1111111111111111,
              "#46039f"
             ],
             [
              0.2222222222222222,
              "#7201a8"
             ],
             [
              0.3333333333333333,
              "#9c179e"
             ],
             [
              0.4444444444444444,
              "#bd3786"
             ],
             [
              0.5555555555555556,
              "#d8576b"
             ],
             [
              0.6666666666666666,
              "#ed7953"
             ],
             [
              0.7777777777777778,
              "#fb9f3a"
             ],
             [
              0.8888888888888888,
              "#fdca26"
             ],
             [
              1,
              "#f0f921"
             ]
            ],
            "type": "heatmap"
           }
          ],
          "heatmapgl": [
           {
            "colorbar": {
             "outlinewidth": 0,
             "ticks": ""
            },
            "colorscale": [
             [
              0,
              "#0d0887"
             ],
             [
              0.1111111111111111,
              "#46039f"
             ],
             [
              0.2222222222222222,
              "#7201a8"
             ],
             [
              0.3333333333333333,
              "#9c179e"
             ],
             [
              0.4444444444444444,
              "#bd3786"
             ],
             [
              0.5555555555555556,
              "#d8576b"
             ],
             [
              0.6666666666666666,
              "#ed7953"
             ],
             [
              0.7777777777777778,
              "#fb9f3a"
             ],
             [
              0.8888888888888888,
              "#fdca26"
             ],
             [
              1,
              "#f0f921"
             ]
            ],
            "type": "heatmapgl"
           }
          ],
          "histogram": [
           {
            "marker": {
             "colorbar": {
              "outlinewidth": 0,
              "ticks": ""
             }
            },
            "type": "histogram"
           }
          ],
          "histogram2d": [
           {
            "colorbar": {
             "outlinewidth": 0,
             "ticks": ""
            },
            "colorscale": [
             [
              0,
              "#0d0887"
             ],
             [
              0.1111111111111111,
              "#46039f"
             ],
             [
              0.2222222222222222,
              "#7201a8"
             ],
             [
              0.3333333333333333,
              "#9c179e"
             ],
             [
              0.4444444444444444,
              "#bd3786"
             ],
             [
              0.5555555555555556,
              "#d8576b"
             ],
             [
              0.6666666666666666,
              "#ed7953"
             ],
             [
              0.7777777777777778,
              "#fb9f3a"
             ],
             [
              0.8888888888888888,
              "#fdca26"
             ],
             [
              1,
              "#f0f921"
             ]
            ],
            "type": "histogram2d"
           }
          ],
          "histogram2dcontour": [
           {
            "colorbar": {
             "outlinewidth": 0,
             "ticks": ""
            },
            "colorscale": [
             [
              0,
              "#0d0887"
             ],
             [
              0.1111111111111111,
              "#46039f"
             ],
             [
              0.2222222222222222,
              "#7201a8"
             ],
             [
              0.3333333333333333,
              "#9c179e"
             ],
             [
              0.4444444444444444,
              "#bd3786"
             ],
             [
              0.5555555555555556,
              "#d8576b"
             ],
             [
              0.6666666666666666,
              "#ed7953"
             ],
             [
              0.7777777777777778,
              "#fb9f3a"
             ],
             [
              0.8888888888888888,
              "#fdca26"
             ],
             [
              1,
              "#f0f921"
             ]
            ],
            "type": "histogram2dcontour"
           }
          ],
          "mesh3d": [
           {
            "colorbar": {
             "outlinewidth": 0,
             "ticks": ""
            },
            "type": "mesh3d"
           }
          ],
          "parcoords": [
           {
            "line": {
             "colorbar": {
              "outlinewidth": 0,
              "ticks": ""
             }
            },
            "type": "parcoords"
           }
          ],
          "pie": [
           {
            "automargin": true,
            "type": "pie"
           }
          ],
          "scatter": [
           {
            "marker": {
             "colorbar": {
              "outlinewidth": 0,
              "ticks": ""
             }
            },
            "type": "scatter"
           }
          ],
          "scatter3d": [
           {
            "line": {
             "colorbar": {
              "outlinewidth": 0,
              "ticks": ""
             }
            },
            "marker": {
             "colorbar": {
              "outlinewidth": 0,
              "ticks": ""
             }
            },
            "type": "scatter3d"
           }
          ],
          "scattercarpet": [
           {
            "marker": {
             "colorbar": {
              "outlinewidth": 0,
              "ticks": ""
             }
            },
            "type": "scattercarpet"
           }
          ],
          "scattergeo": [
           {
            "marker": {
             "colorbar": {
              "outlinewidth": 0,
              "ticks": ""
             }
            },
            "type": "scattergeo"
           }
          ],
          "scattergl": [
           {
            "marker": {
             "colorbar": {
              "outlinewidth": 0,
              "ticks": ""
             }
            },
            "type": "scattergl"
           }
          ],
          "scattermapbox": [
           {
            "marker": {
             "colorbar": {
              "outlinewidth": 0,
              "ticks": ""
             }
            },
            "type": "scattermapbox"
           }
          ],
          "scatterpolar": [
           {
            "marker": {
             "colorbar": {
              "outlinewidth": 0,
              "ticks": ""
             }
            },
            "type": "scatterpolar"
           }
          ],
          "scatterpolargl": [
           {
            "marker": {
             "colorbar": {
              "outlinewidth": 0,
              "ticks": ""
             }
            },
            "type": "scatterpolargl"
           }
          ],
          "scatterternary": [
           {
            "marker": {
             "colorbar": {
              "outlinewidth": 0,
              "ticks": ""
             }
            },
            "type": "scatterternary"
           }
          ],
          "surface": [
           {
            "colorbar": {
             "outlinewidth": 0,
             "ticks": ""
            },
            "colorscale": [
             [
              0,
              "#0d0887"
             ],
             [
              0.1111111111111111,
              "#46039f"
             ],
             [
              0.2222222222222222,
              "#7201a8"
             ],
             [
              0.3333333333333333,
              "#9c179e"
             ],
             [
              0.4444444444444444,
              "#bd3786"
             ],
             [
              0.5555555555555556,
              "#d8576b"
             ],
             [
              0.6666666666666666,
              "#ed7953"
             ],
             [
              0.7777777777777778,
              "#fb9f3a"
             ],
             [
              0.8888888888888888,
              "#fdca26"
             ],
             [
              1,
              "#f0f921"
             ]
            ],
            "type": "surface"
           }
          ],
          "table": [
           {
            "cells": {
             "fill": {
              "color": "#EBF0F8"
             },
             "line": {
              "color": "white"
             }
            },
            "header": {
             "fill": {
              "color": "#C8D4E3"
             },
             "line": {
              "color": "white"
             }
            },
            "type": "table"
           }
          ]
         },
         "layout": {
          "annotationdefaults": {
           "arrowcolor": "#2a3f5f",
           "arrowhead": 0,
           "arrowwidth": 1
          },
          "coloraxis": {
           "colorbar": {
            "outlinewidth": 0,
            "ticks": ""
           }
          },
          "colorscale": {
           "diverging": [
            [
             0,
             "#8e0152"
            ],
            [
             0.1,
             "#c51b7d"
            ],
            [
             0.2,
             "#de77ae"
            ],
            [
             0.3,
             "#f1b6da"
            ],
            [
             0.4,
             "#fde0ef"
            ],
            [
             0.5,
             "#f7f7f7"
            ],
            [
             0.6,
             "#e6f5d0"
            ],
            [
             0.7,
             "#b8e186"
            ],
            [
             0.8,
             "#7fbc41"
            ],
            [
             0.9,
             "#4d9221"
            ],
            [
             1,
             "#276419"
            ]
           ],
           "sequential": [
            [
             0,
             "#0d0887"
            ],
            [
             0.1111111111111111,
             "#46039f"
            ],
            [
             0.2222222222222222,
             "#7201a8"
            ],
            [
             0.3333333333333333,
             "#9c179e"
            ],
            [
             0.4444444444444444,
             "#bd3786"
            ],
            [
             0.5555555555555556,
             "#d8576b"
            ],
            [
             0.6666666666666666,
             "#ed7953"
            ],
            [
             0.7777777777777778,
             "#fb9f3a"
            ],
            [
             0.8888888888888888,
             "#fdca26"
            ],
            [
             1,
             "#f0f921"
            ]
           ],
           "sequentialminus": [
            [
             0,
             "#0d0887"
            ],
            [
             0.1111111111111111,
             "#46039f"
            ],
            [
             0.2222222222222222,
             "#7201a8"
            ],
            [
             0.3333333333333333,
             "#9c179e"
            ],
            [
             0.4444444444444444,
             "#bd3786"
            ],
            [
             0.5555555555555556,
             "#d8576b"
            ],
            [
             0.6666666666666666,
             "#ed7953"
            ],
            [
             0.7777777777777778,
             "#fb9f3a"
            ],
            [
             0.8888888888888888,
             "#fdca26"
            ],
            [
             1,
             "#f0f921"
            ]
           ]
          },
          "colorway": [
           "#636efa",
           "#EF553B",
           "#00cc96",
           "#ab63fa",
           "#FFA15A",
           "#19d3f3",
           "#FF6692",
           "#B6E880",
           "#FF97FF",
           "#FECB52"
          ],
          "font": {
           "color": "#2a3f5f"
          },
          "geo": {
           "bgcolor": "white",
           "lakecolor": "white",
           "landcolor": "#E5ECF6",
           "showlakes": true,
           "showland": true,
           "subunitcolor": "white"
          },
          "hoverlabel": {
           "align": "left"
          },
          "hovermode": "closest",
          "mapbox": {
           "style": "light"
          },
          "paper_bgcolor": "white",
          "plot_bgcolor": "#E5ECF6",
          "polar": {
           "angularaxis": {
            "gridcolor": "white",
            "linecolor": "white",
            "ticks": ""
           },
           "bgcolor": "#E5ECF6",
           "radialaxis": {
            "gridcolor": "white",
            "linecolor": "white",
            "ticks": ""
           }
          },
          "scene": {
           "xaxis": {
            "backgroundcolor": "#E5ECF6",
            "gridcolor": "white",
            "gridwidth": 2,
            "linecolor": "white",
            "showbackground": true,
            "ticks": "",
            "zerolinecolor": "white"
           },
           "yaxis": {
            "backgroundcolor": "#E5ECF6",
            "gridcolor": "white",
            "gridwidth": 2,
            "linecolor": "white",
            "showbackground": true,
            "ticks": "",
            "zerolinecolor": "white"
           },
           "zaxis": {
            "backgroundcolor": "#E5ECF6",
            "gridcolor": "white",
            "gridwidth": 2,
            "linecolor": "white",
            "showbackground": true,
            "ticks": "",
            "zerolinecolor": "white"
           }
          },
          "shapedefaults": {
           "line": {
            "color": "#2a3f5f"
           }
          },
          "ternary": {
           "aaxis": {
            "gridcolor": "white",
            "linecolor": "white",
            "ticks": ""
           },
           "baxis": {
            "gridcolor": "white",
            "linecolor": "white",
            "ticks": ""
           },
           "bgcolor": "#E5ECF6",
           "caxis": {
            "gridcolor": "white",
            "linecolor": "white",
            "ticks": ""
           }
          },
          "title": {
           "x": 0.05
          },
          "xaxis": {
           "automargin": true,
           "gridcolor": "white",
           "linecolor": "white",
           "ticks": "",
           "title": {
            "standoff": 15
           },
           "zerolinecolor": "white",
           "zerolinewidth": 2
          },
          "yaxis": {
           "automargin": true,
           "gridcolor": "white",
           "linecolor": "white",
           "ticks": "",
           "title": {
            "standoff": 15
           },
           "zerolinecolor": "white",
           "zerolinewidth": 2
          }
         }
        },
        "xaxis": {
         "anchor": "y",
         "autorange": true,
         "domain": [
          0,
          1
         ],
         "range": [
          1.8432090077410275,
          4.556790992258973
         ],
         "title": {
          "text": "sepal_width"
         },
         "type": "linear"
        },
        "yaxis": {
         "anchor": "x",
         "autorange": true,
         "domain": [
          0,
          1
         ],
         "range": [
          4.04475138121547,
          8.155248618784531
         ],
         "title": {
          "text": "sepal_length"
         },
         "type": "linear"
        }
       }
      },
      "image/png": "[encoded data removed]",
      "text/html": [
       "<div>\n",
       "        \n",
       "        \n",
       "            <div id=\"eb6e2b26-ec0b-47f8-bde8-3f14b051ecfc\" class=\"plotly-graph-div\" style=\"height:525px; width:100%;\"></div>\n",
       "            <script type=\"text/javascript\">\n",
       "                require([\"plotly\"], function(Plotly) {\n",
       "                    window.PLOTLYENV=window.PLOTLYENV || {};\n",
       "                    \n",
       "                if (document.getElementById(\"eb6e2b26-ec0b-47f8-bde8-3f14b051ecfc\")) {\n",
       "                    Plotly.newPlot(\n",
       "                        'eb6e2b26-ec0b-47f8-bde8-3f14b051ecfc',\n",
       "                        [{\"hoverlabel\": {\"namelength\": 0}, \"hovertemplate\": \"species=setosa<br>sepal_width=%{x}<br>sepal_length=%{y}\", \"legendgroup\": \"setosa\", \"marker\": {\"color\": \"#636efa\", \"symbol\": \"circle\"}, \"mode\": \"markers\", \"name\": \"setosa\", \"showlegend\": true, \"type\": \"scatter\", \"x\": [3.5, 3.0, 3.2, 3.1, 3.6, 3.9, 3.4, 3.4, 2.9, 3.1, 3.7, 3.4, 3.0, 3.0, 4.0, 4.4, 3.9, 3.5, 3.8, 3.8, 3.4, 3.7, 3.6, 3.3, 3.4, 3.0, 3.4, 3.5, 3.4, 3.2, 3.1, 3.4, 4.1, 4.2, 3.1, 3.2, 3.5, 3.1, 3.0, 3.4, 3.5, 2.3, 3.2, 3.5, 3.8, 3.0, 3.8, 3.2, 3.7, 3.3], \"xaxis\": \"x\", \"y\": [5.1, 4.9, 4.7, 4.6, 5.0, 5.4, 4.6, 5.0, 4.4, 4.9, 5.4, 4.8, 4.8, 4.3, 5.8, 5.7, 5.4, 5.1, 5.7, 5.1, 5.4, 5.1, 4.6, 5.1, 4.8, 5.0, 5.0, 5.2, 5.2, 4.7, 4.8, 5.4, 5.2, 5.5, 4.9, 5.0, 5.5, 4.9, 4.4, 5.1, 5.0, 4.5, 4.4, 5.0, 5.1, 4.8, 5.1, 4.6, 5.3, 5.0], \"yaxis\": \"y\"}, {\"hoverlabel\": {\"namelength\": 0}, \"hovertemplate\": \"species=versicolor<br>sepal_width=%{x}<br>sepal_length=%{y}\", \"legendgroup\": \"versicolor\", \"marker\": {\"color\": \"#EF553B\", \"symbol\": \"circle\"}, \"mode\": \"markers\", \"name\": \"versicolor\", \"showlegend\": true, \"type\": \"scatter\", \"x\": [3.2, 3.2, 3.1, 2.3, 2.8, 2.8, 3.3, 2.4, 2.9, 2.7, 2.0, 3.0, 2.2, 2.9, 2.9, 3.1, 3.0, 2.7, 2.2, 2.5, 3.2, 2.8, 2.5, 2.8, 2.9, 3.0, 2.8, 3.0, 2.9, 2.6, 2.4, 2.4, 2.7, 2.7, 3.0, 3.4, 3.1, 2.3, 3.0, 2.5, 2.6, 3.0, 2.6, 2.3, 2.7, 3.0, 2.9, 2.9, 2.5, 2.8], \"xaxis\": \"x\", \"y\": [7.0, 6.4, 6.9, 5.5, 6.5, 5.7, 6.3, 4.9, 6.6, 5.2, 5.0, 5.9, 6.0, 6.1, 5.6, 6.7, 5.6, 5.8, 6.2, 5.6, 5.9, 6.1, 6.3, 6.1, 6.4, 6.6, 6.8, 6.7, 6.0, 5.7, 5.5, 5.5, 5.8, 6.0, 5.4, 6.0, 6.7, 6.3, 5.6, 5.5, 5.5, 6.1, 5.8, 5.0, 5.6, 5.7, 5.7, 6.2, 5.1, 5.7], \"yaxis\": \"y\"}, {\"hoverlabel\": {\"namelength\": 0}, \"hovertemplate\": \"species=virginica<br>sepal_width=%{x}<br>sepal_length=%{y}\", \"legendgroup\": \"virginica\", \"marker\": {\"color\": \"#00cc96\", \"symbol\": \"circle\"}, \"mode\": \"markers\", \"name\": \"virginica\", \"showlegend\": true, \"type\": \"scatter\", \"x\": [3.3, 2.7, 3.0, 2.9, 3.0, 3.0, 2.5, 2.9, 2.5, 3.6, 3.2, 2.7, 3.0, 2.5, 2.8, 3.2, 3.0, 3.8, 2.6, 2.2, 3.2, 2.8, 2.8, 2.7, 3.3, 3.2, 2.8, 3.0, 2.8, 3.0, 2.8, 3.8, 2.8, 2.8, 2.6, 3.0, 3.4, 3.1, 3.0, 3.1, 3.1, 3.1, 2.7, 3.2, 3.3, 3.0, 2.5, 3.0, 3.4, 3.0], \"xaxis\": \"x\", \"y\": [6.3, 5.8, 7.1, 6.3, 6.5, 7.6, 4.9, 7.3, 6.7, 7.2, 6.5, 6.4, 6.8, 5.7, 5.8, 6.4, 6.5, 7.7, 7.7, 6.0, 6.9, 5.6, 7.7, 6.3, 6.7, 7.2, 6.2, 6.1, 6.4, 7.2, 7.4, 7.9, 6.4, 6.3, 6.1, 7.7, 6.3, 6.4, 6.0, 6.9, 6.7, 6.9, 5.8, 6.8, 6.7, 6.7, 6.3, 6.5, 6.2, 5.9], \"yaxis\": \"y\"}],\n",
       "                        {\"legend\": {\"title\": {\"text\": \"species\"}, \"tracegroupgap\": 0}, \"margin\": {\"t\": 60}, \"template\": {\"data\": {\"bar\": [{\"error_x\": {\"color\": \"#2a3f5f\"}, \"error_y\": {\"color\": \"#2a3f5f\"}, \"marker\": {\"line\": {\"color\": \"#E5ECF6\", \"width\": 0.5}}, \"type\": \"bar\"}], \"barpolar\": [{\"marker\": {\"line\": {\"color\": \"#E5ECF6\", \"width\": 0.5}}, \"type\": \"barpolar\"}], \"carpet\": [{\"aaxis\": {\"endlinecolor\": \"#2a3f5f\", \"gridcolor\": \"white\", \"linecolor\": \"white\", \"minorgridcolor\": \"white\", \"startlinecolor\": \"#2a3f5f\"}, \"baxis\": {\"endlinecolor\": \"#2a3f5f\", \"gridcolor\": \"white\", \"linecolor\": \"white\", \"minorgridcolor\": \"white\", \"startlinecolor\": \"#2a3f5f\"}, \"type\": \"carpet\"}], \"choropleth\": [{\"colorbar\": {\"outlinewidth\": 0, \"ticks\": \"\"}, \"type\": \"choropleth\"}], \"contour\": [{\"colorbar\": {\"outlinewidth\": 0, \"ticks\": \"\"}, \"colorscale\": [[0.0, \"#0d0887\"], [0.1111111111111111, \"#46039f\"], [0.2222222222222222, \"#7201a8\"], [0.3333333333333333, \"#9c179e\"], [0.4444444444444444, \"#bd3786\"], [0.5555555555555556, \"#d8576b\"], [0.6666666666666666, \"#ed7953\"], [0.7777777777777778, \"#fb9f3a\"], [0.8888888888888888, \"#fdca26\"], [1.0, \"#f0f921\"]], \"type\": \"contour\"}], \"contourcarpet\": [{\"colorbar\": {\"outlinewidth\": 0, \"ticks\": \"\"}, \"type\": \"contourcarpet\"}], \"heatmap\": [{\"colorbar\": {\"outlinewidth\": 0, \"ticks\": \"\"}, \"colorscale\": [[0.0, \"#0d0887\"], [0.1111111111111111, \"#46039f\"], [0.2222222222222222, \"#7201a8\"], [0.3333333333333333, \"#9c179e\"], [0.4444444444444444, \"#bd3786\"], [0.5555555555555556, \"#d8576b\"], [0.6666666666666666, \"#ed7953\"], [0.7777777777777778, \"#fb9f3a\"], [0.8888888888888888, \"#fdca26\"], [1.0, \"#f0f921\"]], \"type\": \"heatmap\"}], \"heatmapgl\": [{\"colorbar\": {\"outlinewidth\": 0, \"ticks\": \"\"}, \"colorscale\": [[0.0, \"#0d0887\"], [0.1111111111111111, \"#46039f\"], [0.2222222222222222, \"#7201a8\"], [0.3333333333333333, \"#9c179e\"], [0.4444444444444444, \"#bd3786\"], [0.5555555555555556, \"#d8576b\"], [0.6666666666666666, \"#ed7953\"], [0.7777777777777778, \"#fb9f3a\"], [0.8888888888888888, \"#fdca26\"], [1.0, \"#f0f921\"]], \"type\": \"heatmapgl\"}], \"histogram\": [{\"marker\": {\"colorbar\": {\"outlinewidth\": 0, \"ticks\": \"\"}}, \"type\": \"histogram\"}], \"histogram2d\": [{\"colorbar\": {\"outlinewidth\": 0, \"ticks\": \"\"}, \"colorscale\": [[0.0, \"#0d0887\"], [0.1111111111111111, \"#46039f\"], [0.2222222222222222, \"#7201a8\"], [0.3333333333333333, \"#9c179e\"], [0.4444444444444444, \"#bd3786\"], [0.5555555555555556, \"#d8576b\"], [0.6666666666666666, \"#ed7953\"], [0.7777777777777778, \"#fb9f3a\"], [0.8888888888888888, \"#fdca26\"], [1.0, \"#f0f921\"]], \"type\": \"histogram2d\"}], \"histogram2dcontour\": [{\"colorbar\": {\"outlinewidth\": 0, \"ticks\": \"\"}, \"colorscale\": [[0.0, \"#0d0887\"], [0.1111111111111111, \"#46039f\"], [0.2222222222222222, \"#7201a8\"], [0.3333333333333333, \"#9c179e\"], [0.4444444444444444, \"#bd3786\"], [0.5555555555555556, \"#d8576b\"], [0.6666666666666666, \"#ed7953\"], [0.7777777777777778, \"#fb9f3a\"], [0.8888888888888888, \"#fdca26\"], [1.0, \"#f0f921\"]], \"type\": \"histogram2dcontour\"}], \"mesh3d\": [{\"colorbar\": {\"outlinewidth\": 0, \"ticks\": \"\"}, \"type\": \"mesh3d\"}], \"parcoords\": [{\"line\": {\"colorbar\": {\"outlinewidth\": 0, \"ticks\": \"\"}}, \"type\": \"parcoords\"}], \"pie\": [{\"automargin\": true, \"type\": \"pie\"}], \"scatter\": [{\"marker\": {\"colorbar\": {\"outlinewidth\": 0, \"ticks\": \"\"}}, \"type\": \"scatter\"}], \"scatter3d\": [{\"line\": {\"colorbar\": {\"outlinewidth\": 0, \"ticks\": \"\"}}, \"marker\": {\"colorbar\": {\"outlinewidth\": 0, \"ticks\": \"\"}}, \"type\": \"scatter3d\"}], \"scattercarpet\": [{\"marker\": {\"colorbar\": {\"outlinewidth\": 0, \"ticks\": \"\"}}, \"type\": \"scattercarpet\"}], \"scattergeo\": [{\"marker\": {\"colorbar\": {\"outlinewidth\": 0, \"ticks\": \"\"}}, \"type\": \"scattergeo\"}], \"scattergl\": [{\"marker\": {\"colorbar\": {\"outlinewidth\": 0, \"ticks\": \"\"}}, \"type\": \"scattergl\"}], \"scattermapbox\": [{\"marker\": {\"colorbar\": {\"outlinewidth\": 0, \"ticks\": \"\"}}, \"type\": \"scattermapbox\"}], \"scatterpolar\": [{\"marker\": {\"colorbar\": {\"outlinewidth\": 0, \"ticks\": \"\"}}, \"type\": \"scatterpolar\"}], \"scatterpolargl\": [{\"marker\": {\"colorbar\": {\"outlinewidth\": 0, \"ticks\": \"\"}}, \"type\": \"scatterpolargl\"}], \"scatterternary\": [{\"marker\": {\"colorbar\": {\"outlinewidth\": 0, \"ticks\": \"\"}}, \"type\": \"scatterternary\"}], \"surface\": [{\"colorbar\": {\"outlinewidth\": 0, \"ticks\": \"\"}, \"colorscale\": [[0.0, \"#0d0887\"], [0.1111111111111111, \"#46039f\"], [0.2222222222222222, \"#7201a8\"], [0.3333333333333333, \"#9c179e\"], [0.4444444444444444, \"#bd3786\"], [0.5555555555555556, \"#d8576b\"], [0.6666666666666666, \"#ed7953\"], [0.7777777777777778, \"#fb9f3a\"], [0.8888888888888888, \"#fdca26\"], [1.0, \"#f0f921\"]], \"type\": \"surface\"}], \"table\": [{\"cells\": {\"fill\": {\"color\": \"#EBF0F8\"}, \"line\": {\"color\": \"white\"}}, \"header\": {\"fill\": {\"color\": \"#C8D4E3\"}, \"line\": {\"color\": \"white\"}}, \"type\": \"table\"}]}, \"layout\": {\"annotationdefaults\": {\"arrowcolor\": \"#2a3f5f\", \"arrowhead\": 0, \"arrowwidth\": 1}, \"coloraxis\": {\"colorbar\": {\"outlinewidth\": 0, \"ticks\": \"\"}}, \"colorscale\": {\"diverging\": [[0, \"#8e0152\"], [0.1, \"#c51b7d\"], [0.2, \"#de77ae\"], [0.3, \"#f1b6da\"], [0.4, \"#fde0ef\"], [0.5, \"#f7f7f7\"], [0.6, \"#e6f5d0\"], [0.7, \"#b8e186\"], [0.8, \"#7fbc41\"], [0.9, \"#4d9221\"], [1, \"#276419\"]], \"sequential\": [[0.0, \"#0d0887\"], [0.1111111111111111, \"#46039f\"], [0.2222222222222222, \"#7201a8\"], [0.3333333333333333, \"#9c179e\"], [0.4444444444444444, \"#bd3786\"], [0.5555555555555556, \"#d8576b\"], [0.6666666666666666, \"#ed7953\"], [0.7777777777777778, \"#fb9f3a\"], [0.8888888888888888, \"#fdca26\"], [1.0, \"#f0f921\"]], \"sequentialminus\": [[0.0, \"#0d0887\"], [0.1111111111111111, \"#46039f\"], [0.2222222222222222, \"#7201a8\"], [0.3333333333333333, \"#9c179e\"], [0.4444444444444444, \"#bd3786\"], [0.5555555555555556, \"#d8576b\"], [0.6666666666666666, \"#ed7953\"], [0.7777777777777778, \"#fb9f3a\"], [0.8888888888888888, \"#fdca26\"], [1.0, \"#f0f921\"]]}, \"colorway\": [\"#636efa\", \"#EF553B\", \"#00cc96\", \"#ab63fa\", \"#FFA15A\", \"#19d3f3\", \"#FF6692\", \"#B6E880\", \"#FF97FF\", \"#FECB52\"], \"font\": {\"color\": \"#2a3f5f\"}, \"geo\": {\"bgcolor\": \"white\", \"lakecolor\": \"white\", \"landcolor\": \"#E5ECF6\", \"showlakes\": true, \"showland\": true, \"subunitcolor\": \"white\"}, \"hoverlabel\": {\"align\": \"left\"}, \"hovermode\": \"closest\", \"mapbox\": {\"style\": \"light\"}, \"paper_bgcolor\": \"white\", \"plot_bgcolor\": \"#E5ECF6\", \"polar\": {\"angularaxis\": {\"gridcolor\": \"white\", \"linecolor\": \"white\", \"ticks\": \"\"}, \"bgcolor\": \"#E5ECF6\", \"radialaxis\": {\"gridcolor\": \"white\", \"linecolor\": \"white\", \"ticks\": \"\"}}, \"scene\": {\"xaxis\": {\"backgroundcolor\": \"#E5ECF6\", \"gridcolor\": \"white\", \"gridwidth\": 2, \"linecolor\": \"white\", \"showbackground\": true, \"ticks\": \"\", \"zerolinecolor\": \"white\"}, \"yaxis\": {\"backgroundcolor\": \"#E5ECF6\", \"gridcolor\": \"white\", \"gridwidth\": 2, \"linecolor\": \"white\", \"showbackground\": true, \"ticks\": \"\", \"zerolinecolor\": \"white\"}, \"zaxis\": {\"backgroundcolor\": \"#E5ECF6\", \"gridcolor\": \"white\", \"gridwidth\": 2, \"linecolor\": \"white\", \"showbackground\": true, \"ticks\": \"\", \"zerolinecolor\": \"white\"}}, \"shapedefaults\": {\"line\": {\"color\": \"#2a3f5f\"}}, \"ternary\": {\"aaxis\": {\"gridcolor\": \"white\", \"linecolor\": \"white\", \"ticks\": \"\"}, \"baxis\": {\"gridcolor\": \"white\", \"linecolor\": \"white\", \"ticks\": \"\"}, \"bgcolor\": \"#E5ECF6\", \"caxis\": {\"gridcolor\": \"white\", \"linecolor\": \"white\", \"ticks\": \"\"}}, \"title\": {\"x\": 0.05}, \"xaxis\": {\"automargin\": true, \"gridcolor\": \"white\", \"linecolor\": \"white\", \"ticks\": \"\", \"title\": {\"standoff\": 15}, \"zerolinecolor\": \"white\", \"zerolinewidth\": 2}, \"yaxis\": {\"automargin\": true, \"gridcolor\": \"white\", \"linecolor\": \"white\", \"ticks\": \"\", \"title\": {\"standoff\": 15}, \"zerolinecolor\": \"white\", \"zerolinewidth\": 2}}}, \"xaxis\": {\"anchor\": \"y\", \"domain\": [0.0, 1.0], \"title\": {\"text\": \"sepal_width\"}}, \"yaxis\": {\"anchor\": \"x\", \"domain\": [0.0, 1.0], \"title\": {\"text\": \"sepal_length\"}}},\n",
       "                        {\"responsive\": true}\n",
       "                    ).then(function(){\n",
       "                            \n",
       "var gd = document.getElementById('eb6e2b26-ec0b-47f8-bde8-3f14b051ecfc');\n",
       "var x = new MutationObserver(function (mutations, observer) {{\n",
       "        var display = window.getComputedStyle(gd).display;\n",
       "        if (!display || display === 'none') {{\n",
       "            console.log([gd, 'removed!']);\n",
       "            Plotly.purge(gd);\n",
       "            observer.disconnect();\n",
       "        }}\n",
       "}});\n",
       "\n",
       "// Listen for the removal of the full notebook cells\n",
       "var notebookContainer = gd.closest('#notebook-container');\n",
       "if (notebookContainer) {{\n",
       "    x.observe(notebookContainer, {childList: true});\n",
       "}}\n",
       "\n",
       "// Listen for the clearing of the current output cell\n",
       "var outputEl = gd.closest('.output');\n",
       "if (outputEl) {{\n",
       "    x.observe(outputEl, {childList: true});\n",
       "}}\n",
       "\n",
       "                        })\n",
       "                };\n",
       "                });\n",
       "            </script>\n",
       "        </div>"
      ]
     },
     "metadata": {},
     "output_type": "display_data"
    }
   ],
   "source": [
    "# Use Plotly express for making the graph.\n",
    "fig = px.scatter(df, x=\"sepal_width\", y=\"sepal_length\",color='species')\n",
    "fig"
   ]
  },
  {
   "cell_type": "code",
   "execution_count": 15,
   "metadata": {},
   "outputs": [],
   "source": [
    "#Opens up fig in new browser\n",
    "fig.show(renderer='browser')"
   ]
  },
  {
   "cell_type": "code",
   "execution_count": 19,
   "metadata": {},
   "outputs": [
    {
     "data": {
      "text/plain": [
       "{'data': [{'hoverlabel': {'namelength': 0},\n",
       "   'hovertemplate': 'species=setosa<br>sepal_width=%{x}<br>sepal_length=%{y}',\n",
       "   'legendgroup': 'setosa',\n",
       "   'marker': {'color': '#636efa', 'symbol': 'circle'},\n",
       "   'mode': 'markers',\n",
       "   'name': 'setosa',\n",
       "   'showlegend': True,\n",
       "   'type': 'scatter',\n",
       "   'x': [3.5,\n",
       "    3.0,\n",
       "    3.2,\n",
       "    3.1,\n",
       "    3.6,\n",
       "    3.9,\n",
       "    3.4,\n",
       "    3.4,\n",
       "    2.9,\n",
       "    3.1,\n",
       "    3.7,\n",
       "    3.4,\n",
       "    3.0,\n",
       "    3.0,\n",
       "    4.0,\n",
       "    4.4,\n",
       "    3.9,\n",
       "    3.5,\n",
       "    3.8,\n",
       "    3.8,\n",
       "    3.4,\n",
       "    3.7,\n",
       "    3.6,\n",
       "    3.3,\n",
       "    3.4,\n",
       "    3.0,\n",
       "    3.4,\n",
       "    3.5,\n",
       "    3.4,\n",
       "    3.2,\n",
       "    3.1,\n",
       "    3.4,\n",
       "    4.1,\n",
       "    4.2,\n",
       "    3.1,\n",
       "    3.2,\n",
       "    3.5,\n",
       "    3.1,\n",
       "    3.0,\n",
       "    3.4,\n",
       "    3.5,\n",
       "    2.3,\n",
       "    3.2,\n",
       "    3.5,\n",
       "    3.8,\n",
       "    3.0,\n",
       "    3.8,\n",
       "    3.2,\n",
       "    3.7,\n",
       "    3.3],\n",
       "   'xaxis': 'x',\n",
       "   'y': [5.1,\n",
       "    4.9,\n",
       "    4.7,\n",
       "    4.6,\n",
       "    5.0,\n",
       "    5.4,\n",
       "    4.6,\n",
       "    5.0,\n",
       "    4.4,\n",
       "    4.9,\n",
       "    5.4,\n",
       "    4.8,\n",
       "    4.8,\n",
       "    4.3,\n",
       "    5.8,\n",
       "    5.7,\n",
       "    5.4,\n",
       "    5.1,\n",
       "    5.7,\n",
       "    5.1,\n",
       "    5.4,\n",
       "    5.1,\n",
       "    4.6,\n",
       "    5.1,\n",
       "    4.8,\n",
       "    5.0,\n",
       "    5.0,\n",
       "    5.2,\n",
       "    5.2,\n",
       "    4.7,\n",
       "    4.8,\n",
       "    5.4,\n",
       "    5.2,\n",
       "    5.5,\n",
       "    4.9,\n",
       "    5.0,\n",
       "    5.5,\n",
       "    4.9,\n",
       "    4.4,\n",
       "    5.1,\n",
       "    5.0,\n",
       "    4.5,\n",
       "    4.4,\n",
       "    5.0,\n",
       "    5.1,\n",
       "    4.8,\n",
       "    5.1,\n",
       "    4.6,\n",
       "    5.3,\n",
       "    5.0],\n",
       "   'yaxis': 'y'},\n",
       "  {'hoverlabel': {'namelength': 0},\n",
       "   'hovertemplate': 'species=versicolor<br>sepal_width=%{x}<br>sepal_length=%{y}',\n",
       "   'legendgroup': 'versicolor',\n",
       "   'marker': {'color': '#EF553B', 'symbol': 'circle'},\n",
       "   'mode': 'markers',\n",
       "   'name': 'versicolor',\n",
       "   'showlegend': True,\n",
       "   'type': 'scatter',\n",
       "   'x': [3.2,\n",
       "    3.2,\n",
       "    3.1,\n",
       "    2.3,\n",
       "    2.8,\n",
       "    2.8,\n",
       "    3.3,\n",
       "    2.4,\n",
       "    2.9,\n",
       "    2.7,\n",
       "    2.0,\n",
       "    3.0,\n",
       "    2.2,\n",
       "    2.9,\n",
       "    2.9,\n",
       "    3.1,\n",
       "    3.0,\n",
       "    2.7,\n",
       "    2.2,\n",
       "    2.5,\n",
       "    3.2,\n",
       "    2.8,\n",
       "    2.5,\n",
       "    2.8,\n",
       "    2.9,\n",
       "    3.0,\n",
       "    2.8,\n",
       "    3.0,\n",
       "    2.9,\n",
       "    2.6,\n",
       "    2.4,\n",
       "    2.4,\n",
       "    2.7,\n",
       "    2.7,\n",
       "    3.0,\n",
       "    3.4,\n",
       "    3.1,\n",
       "    2.3,\n",
       "    3.0,\n",
       "    2.5,\n",
       "    2.6,\n",
       "    3.0,\n",
       "    2.6,\n",
       "    2.3,\n",
       "    2.7,\n",
       "    3.0,\n",
       "    2.9,\n",
       "    2.9,\n",
       "    2.5,\n",
       "    2.8],\n",
       "   'xaxis': 'x',\n",
       "   'y': [7.0,\n",
       "    6.4,\n",
       "    6.9,\n",
       "    5.5,\n",
       "    6.5,\n",
       "    5.7,\n",
       "    6.3,\n",
       "    4.9,\n",
       "    6.6,\n",
       "    5.2,\n",
       "    5.0,\n",
       "    5.9,\n",
       "    6.0,\n",
       "    6.1,\n",
       "    5.6,\n",
       "    6.7,\n",
       "    5.6,\n",
       "    5.8,\n",
       "    6.2,\n",
       "    5.6,\n",
       "    5.9,\n",
       "    6.1,\n",
       "    6.3,\n",
       "    6.1,\n",
       "    6.4,\n",
       "    6.6,\n",
       "    6.8,\n",
       "    6.7,\n",
       "    6.0,\n",
       "    5.7,\n",
       "    5.5,\n",
       "    5.5,\n",
       "    5.8,\n",
       "    6.0,\n",
       "    5.4,\n",
       "    6.0,\n",
       "    6.7,\n",
       "    6.3,\n",
       "    5.6,\n",
       "    5.5,\n",
       "    5.5,\n",
       "    6.1,\n",
       "    5.8,\n",
       "    5.0,\n",
       "    5.6,\n",
       "    5.7,\n",
       "    5.7,\n",
       "    6.2,\n",
       "    5.1,\n",
       "    5.7],\n",
       "   'yaxis': 'y'},\n",
       "  {'hoverlabel': {'namelength': 0},\n",
       "   'hovertemplate': 'species=virginica<br>sepal_width=%{x}<br>sepal_length=%{y}',\n",
       "   'legendgroup': 'virginica',\n",
       "   'marker': {'color': '#00cc96', 'symbol': 'circle'},\n",
       "   'mode': 'markers',\n",
       "   'name': 'virginica',\n",
       "   'showlegend': True,\n",
       "   'type': 'scatter',\n",
       "   'x': [3.3,\n",
       "    2.7,\n",
       "    3.0,\n",
       "    2.9,\n",
       "    3.0,\n",
       "    3.0,\n",
       "    2.5,\n",
       "    2.9,\n",
       "    2.5,\n",
       "    3.6,\n",
       "    3.2,\n",
       "    2.7,\n",
       "    3.0,\n",
       "    2.5,\n",
       "    2.8,\n",
       "    3.2,\n",
       "    3.0,\n",
       "    3.8,\n",
       "    2.6,\n",
       "    2.2,\n",
       "    3.2,\n",
       "    2.8,\n",
       "    2.8,\n",
       "    2.7,\n",
       "    3.3,\n",
       "    3.2,\n",
       "    2.8,\n",
       "    3.0,\n",
       "    2.8,\n",
       "    3.0,\n",
       "    2.8,\n",
       "    3.8,\n",
       "    2.8,\n",
       "    2.8,\n",
       "    2.6,\n",
       "    3.0,\n",
       "    3.4,\n",
       "    3.1,\n",
       "    3.0,\n",
       "    3.1,\n",
       "    3.1,\n",
       "    3.1,\n",
       "    2.7,\n",
       "    3.2,\n",
       "    3.3,\n",
       "    3.0,\n",
       "    2.5,\n",
       "    3.0,\n",
       "    3.4,\n",
       "    3.0],\n",
       "   'xaxis': 'x',\n",
       "   'y': [6.3,\n",
       "    5.8,\n",
       "    7.1,\n",
       "    6.3,\n",
       "    6.5,\n",
       "    7.6,\n",
       "    4.9,\n",
       "    7.3,\n",
       "    6.7,\n",
       "    7.2,\n",
       "    6.5,\n",
       "    6.4,\n",
       "    6.8,\n",
       "    5.7,\n",
       "    5.8,\n",
       "    6.4,\n",
       "    6.5,\n",
       "    7.7,\n",
       "    7.7,\n",
       "    6.0,\n",
       "    6.9,\n",
       "    5.6,\n",
       "    7.7,\n",
       "    6.3,\n",
       "    6.7,\n",
       "    7.2,\n",
       "    6.2,\n",
       "    6.1,\n",
       "    6.4,\n",
       "    7.2,\n",
       "    7.4,\n",
       "    7.9,\n",
       "    6.4,\n",
       "    6.3,\n",
       "    6.1,\n",
       "    7.7,\n",
       "    6.3,\n",
       "    6.4,\n",
       "    6.0,\n",
       "    6.9,\n",
       "    6.7,\n",
       "    6.9,\n",
       "    5.8,\n",
       "    6.8,\n",
       "    6.7,\n",
       "    6.7,\n",
       "    6.3,\n",
       "    6.5,\n",
       "    6.2,\n",
       "    5.9],\n",
       "   'yaxis': 'y'}],\n",
       " 'layout': {'legend': {'title': {'text': 'species'}, 'tracegroupgap': 0},\n",
       "  'margin': {'t': 60},\n",
       "  'template': {'data': {'bar': [{'error_x': {'color': '#2a3f5f'},\n",
       "      'error_y': {'color': '#2a3f5f'},\n",
       "      'marker': {'line': {'color': '#E5ECF6', 'width': 0.5}},\n",
       "      'type': 'bar'}],\n",
       "    'barpolar': [{'marker': {'line': {'color': '#E5ECF6', 'width': 0.5}},\n",
       "      'type': 'barpolar'}],\n",
       "    'carpet': [{'aaxis': {'endlinecolor': '#2a3f5f',\n",
       "       'gridcolor': 'white',\n",
       "       'linecolor': 'white',\n",
       "       'minorgridcolor': 'white',\n",
       "       'startlinecolor': '#2a3f5f'},\n",
       "      'baxis': {'endlinecolor': '#2a3f5f',\n",
       "       'gridcolor': 'white',\n",
       "       'linecolor': 'white',\n",
       "       'minorgridcolor': 'white',\n",
       "       'startlinecolor': '#2a3f5f'},\n",
       "      'type': 'carpet'}],\n",
       "    'choropleth': [{'colorbar': {'outlinewidth': 0, 'ticks': ''},\n",
       "      'type': 'choropleth'}],\n",
       "    'contour': [{'colorbar': {'outlinewidth': 0, 'ticks': ''},\n",
       "      'colorscale': [[0.0, '#0d0887'],\n",
       "       [0.1111111111111111, '#46039f'],\n",
       "       [0.2222222222222222, '#7201a8'],\n",
       "       [0.3333333333333333, '#9c179e'],\n",
       "       [0.4444444444444444, '#bd3786'],\n",
       "       [0.5555555555555556, '#d8576b'],\n",
       "       [0.6666666666666666, '#ed7953'],\n",
       "       [0.7777777777777778, '#fb9f3a'],\n",
       "       [0.8888888888888888, '#fdca26'],\n",
       "       [1.0, '#f0f921']],\n",
       "      'type': 'contour'}],\n",
       "    'contourcarpet': [{'colorbar': {'outlinewidth': 0, 'ticks': ''},\n",
       "      'type': 'contourcarpet'}],\n",
       "    'heatmap': [{'colorbar': {'outlinewidth': 0, 'ticks': ''},\n",
       "      'colorscale': [[0.0, '#0d0887'],\n",
       "       [0.1111111111111111, '#46039f'],\n",
       "       [0.2222222222222222, '#7201a8'],\n",
       "       [0.3333333333333333, '#9c179e'],\n",
       "       [0.4444444444444444, '#bd3786'],\n",
       "       [0.5555555555555556, '#d8576b'],\n",
       "       [0.6666666666666666, '#ed7953'],\n",
       "       [0.7777777777777778, '#fb9f3a'],\n",
       "       [0.8888888888888888, '#fdca26'],\n",
       "       [1.0, '#f0f921']],\n",
       "      'type': 'heatmap'}],\n",
       "    'heatmapgl': [{'colorbar': {'outlinewidth': 0, 'ticks': ''},\n",
       "      'colorscale': [[0.0, '#0d0887'],\n",
       "       [0.1111111111111111, '#46039f'],\n",
       "       [0.2222222222222222, '#7201a8'],\n",
       "       [0.3333333333333333, '#9c179e'],\n",
       "       [0.4444444444444444, '#bd3786'],\n",
       "       [0.5555555555555556, '#d8576b'],\n",
       "       [0.6666666666666666, '#ed7953'],\n",
       "       [0.7777777777777778, '#fb9f3a'],\n",
       "       [0.8888888888888888, '#fdca26'],\n",
       "       [1.0, '#f0f921']],\n",
       "      'type': 'heatmapgl'}],\n",
       "    'histogram': [{'marker': {'colorbar': {'outlinewidth': 0, 'ticks': ''}},\n",
       "      'type': 'histogram'}],\n",
       "    'histogram2d': [{'colorbar': {'outlinewidth': 0, 'ticks': ''},\n",
       "      'colorscale': [[0.0, '#0d0887'],\n",
       "       [0.1111111111111111, '#46039f'],\n",
       "       [0.2222222222222222, '#7201a8'],\n",
       "       [0.3333333333333333, '#9c179e'],\n",
       "       [0.4444444444444444, '#bd3786'],\n",
       "       [0.5555555555555556, '#d8576b'],\n",
       "       [0.6666666666666666, '#ed7953'],\n",
       "       [0.7777777777777778, '#fb9f3a'],\n",
       "       [0.8888888888888888, '#fdca26'],\n",
       "       [1.0, '#f0f921']],\n",
       "      'type': 'histogram2d'}],\n",
       "    'histogram2dcontour': [{'colorbar': {'outlinewidth': 0, 'ticks': ''},\n",
       "      'colorscale': [[0.0, '#0d0887'],\n",
       "       [0.1111111111111111, '#46039f'],\n",
       "       [0.2222222222222222, '#7201a8'],\n",
       "       [0.3333333333333333, '#9c179e'],\n",
       "       [0.4444444444444444, '#bd3786'],\n",
       "       [0.5555555555555556, '#d8576b'],\n",
       "       [0.6666666666666666, '#ed7953'],\n",
       "       [0.7777777777777778, '#fb9f3a'],\n",
       "       [0.8888888888888888, '#fdca26'],\n",
       "       [1.0, '#f0f921']],\n",
       "      'type': 'histogram2dcontour'}],\n",
       "    'mesh3d': [{'colorbar': {'outlinewidth': 0, 'ticks': ''},\n",
       "      'type': 'mesh3d'}],\n",
       "    'parcoords': [{'line': {'colorbar': {'outlinewidth': 0, 'ticks': ''}},\n",
       "      'type': 'parcoords'}],\n",
       "    'pie': [{'automargin': True, 'type': 'pie'}],\n",
       "    'scatter': [{'marker': {'colorbar': {'outlinewidth': 0, 'ticks': ''}},\n",
       "      'type': 'scatter'}],\n",
       "    'scatter3d': [{'line': {'colorbar': {'outlinewidth': 0, 'ticks': ''}},\n",
       "      'marker': {'colorbar': {'outlinewidth': 0, 'ticks': ''}},\n",
       "      'type': 'scatter3d'}],\n",
       "    'scattercarpet': [{'marker': {'colorbar': {'outlinewidth': 0,\n",
       "        'ticks': ''}},\n",
       "      'type': 'scattercarpet'}],\n",
       "    'scattergeo': [{'marker': {'colorbar': {'outlinewidth': 0, 'ticks': ''}},\n",
       "      'type': 'scattergeo'}],\n",
       "    'scattergl': [{'marker': {'colorbar': {'outlinewidth': 0, 'ticks': ''}},\n",
       "      'type': 'scattergl'}],\n",
       "    'scattermapbox': [{'marker': {'colorbar': {'outlinewidth': 0,\n",
       "        'ticks': ''}},\n",
       "      'type': 'scattermapbox'}],\n",
       "    'scatterpolar': [{'marker': {'colorbar': {'outlinewidth': 0, 'ticks': ''}},\n",
       "      'type': 'scatterpolar'}],\n",
       "    'scatterpolargl': [{'marker': {'colorbar': {'outlinewidth': 0,\n",
       "        'ticks': ''}},\n",
       "      'type': 'scatterpolargl'}],\n",
       "    'scatterternary': [{'marker': {'colorbar': {'outlinewidth': 0,\n",
       "        'ticks': ''}},\n",
       "      'type': 'scatterternary'}],\n",
       "    'surface': [{'colorbar': {'outlinewidth': 0, 'ticks': ''},\n",
       "      'colorscale': [[0.0, '#0d0887'],\n",
       "       [0.1111111111111111, '#46039f'],\n",
       "       [0.2222222222222222, '#7201a8'],\n",
       "       [0.3333333333333333, '#9c179e'],\n",
       "       [0.4444444444444444, '#bd3786'],\n",
       "       [0.5555555555555556, '#d8576b'],\n",
       "       [0.6666666666666666, '#ed7953'],\n",
       "       [0.7777777777777778, '#fb9f3a'],\n",
       "       [0.8888888888888888, '#fdca26'],\n",
       "       [1.0, '#f0f921']],\n",
       "      'type': 'surface'}],\n",
       "    'table': [{'cells': {'fill': {'color': '#EBF0F8'},\n",
       "       'line': {'color': 'white'}},\n",
       "      'header': {'fill': {'color': '#C8D4E3'}, 'line': {'color': 'white'}},\n",
       "      'type': 'table'}]},\n",
       "   'layout': {'annotationdefaults': {'arrowcolor': '#2a3f5f',\n",
       "     'arrowhead': 0,\n",
       "     'arrowwidth': 1},\n",
       "    'coloraxis': {'colorbar': {'outlinewidth': 0, 'ticks': ''}},\n",
       "    'colorscale': {'diverging': [[0, '#8e0152'],\n",
       "      [0.1, '#c51b7d'],\n",
       "      [0.2, '#de77ae'],\n",
       "      [0.3, '#f1b6da'],\n",
       "      [0.4, '#fde0ef'],\n",
       "      [0.5, '#f7f7f7'],\n",
       "      [0.6, '#e6f5d0'],\n",
       "      [0.7, '#b8e186'],\n",
       "      [0.8, '#7fbc41'],\n",
       "      [0.9, '#4d9221'],\n",
       "      [1, '#276419']],\n",
       "     'sequential': [[0.0, '#0d0887'],\n",
       "      [0.1111111111111111, '#46039f'],\n",
       "      [0.2222222222222222, '#7201a8'],\n",
       "      [0.3333333333333333, '#9c179e'],\n",
       "      [0.4444444444444444, '#bd3786'],\n",
       "      [0.5555555555555556, '#d8576b'],\n",
       "      [0.6666666666666666, '#ed7953'],\n",
       "      [0.7777777777777778, '#fb9f3a'],\n",
       "      [0.8888888888888888, '#fdca26'],\n",
       "      [1.0, '#f0f921']],\n",
       "     'sequentialminus': [[0.0, '#0d0887'],\n",
       "      [0.1111111111111111, '#46039f'],\n",
       "      [0.2222222222222222, '#7201a8'],\n",
       "      [0.3333333333333333, '#9c179e'],\n",
       "      [0.4444444444444444, '#bd3786'],\n",
       "      [0.5555555555555556, '#d8576b'],\n",
       "      [0.6666666666666666, '#ed7953'],\n",
       "      [0.7777777777777778, '#fb9f3a'],\n",
       "      [0.8888888888888888, '#fdca26'],\n",
       "      [1.0, '#f0f921']]},\n",
       "    'colorway': ['#636efa',\n",
       "     '#EF553B',\n",
       "     '#00cc96',\n",
       "     '#ab63fa',\n",
       "     '#FFA15A',\n",
       "     '#19d3f3',\n",
       "     '#FF6692',\n",
       "     '#B6E880',\n",
       "     '#FF97FF',\n",
       "     '#FECB52'],\n",
       "    'font': {'color': '#2a3f5f'},\n",
       "    'geo': {'bgcolor': 'white',\n",
       "     'lakecolor': 'white',\n",
       "     'landcolor': '#E5ECF6',\n",
       "     'showlakes': True,\n",
       "     'showland': True,\n",
       "     'subunitcolor': 'white'},\n",
       "    'hoverlabel': {'align': 'left'},\n",
       "    'hovermode': 'closest',\n",
       "    'mapbox': {'style': 'light'},\n",
       "    'paper_bgcolor': 'white',\n",
       "    'plot_bgcolor': '#E5ECF6',\n",
       "    'polar': {'angularaxis': {'gridcolor': 'white',\n",
       "      'linecolor': 'white',\n",
       "      'ticks': ''},\n",
       "     'bgcolor': '#E5ECF6',\n",
       "     'radialaxis': {'gridcolor': 'white', 'linecolor': 'white', 'ticks': ''}},\n",
       "    'scene': {'xaxis': {'backgroundcolor': '#E5ECF6',\n",
       "      'gridcolor': 'white',\n",
       "      'gridwidth': 2,\n",
       "      'linecolor': 'white',\n",
       "      'showbackground': True,\n",
       "      'ticks': '',\n",
       "      'zerolinecolor': 'white'},\n",
       "     'yaxis': {'backgroundcolor': '#E5ECF6',\n",
       "      'gridcolor': 'white',\n",
       "      'gridwidth': 2,\n",
       "      'linecolor': 'white',\n",
       "      'showbackground': True,\n",
       "      'ticks': '',\n",
       "      'zerolinecolor': 'white'},\n",
       "     'zaxis': {'backgroundcolor': '#E5ECF6',\n",
       "      'gridcolor': 'white',\n",
       "      'gridwidth': 2,\n",
       "      'linecolor': 'white',\n",
       "      'showbackground': True,\n",
       "      'ticks': '',\n",
       "      'zerolinecolor': 'white'}},\n",
       "    'shapedefaults': {'line': {'color': '#2a3f5f'}},\n",
       "    'ternary': {'aaxis': {'gridcolor': 'white',\n",
       "      'linecolor': 'white',\n",
       "      'ticks': ''},\n",
       "     'baxis': {'gridcolor': 'white', 'linecolor': 'white', 'ticks': ''},\n",
       "     'bgcolor': '#E5ECF6',\n",
       "     'caxis': {'gridcolor': 'white', 'linecolor': 'white', 'ticks': ''}},\n",
       "    'title': {'x': 0.05},\n",
       "    'xaxis': {'automargin': True,\n",
       "     'gridcolor': 'white',\n",
       "     'linecolor': 'white',\n",
       "     'ticks': '',\n",
       "     'title': {'standoff': 15},\n",
       "     'zerolinecolor': 'white',\n",
       "     'zerolinewidth': 2},\n",
       "    'yaxis': {'automargin': True,\n",
       "     'gridcolor': 'white',\n",
       "     'linecolor': 'white',\n",
       "     'ticks': '',\n",
       "     'title': {'standoff': 15},\n",
       "     'zerolinecolor': 'white',\n",
       "     'zerolinewidth': 2}}},\n",
       "  'xaxis': {'anchor': 'y',\n",
       "   'domain': [0.0, 1.0],\n",
       "   'title': {'text': 'sepal_width'}},\n",
       "  'yaxis': {'anchor': 'x',\n",
       "   'domain': [0.0, 1.0],\n",
       "   'title': {'text': 'sepal_length'}}}}"
      ]
     },
     "execution_count": 19,
     "metadata": {},
     "output_type": "execute_result"
    }
   ],
   "source": [
    "#This loads the data and layout as a dict or json object.\n",
    "json.loads(fig.to_json())"
   ]
  },
  {
   "cell_type": "code",
   "execution_count": null,
   "metadata": {},
   "outputs": [],
   "source": []
  }
 ],
 "metadata": {
  "kernelspec": {
   "display_name": "Python 3",
   "language": "python",
   "name": "python3"
  },
  "language_info": {
   "codemirror_mode": {
    "name": "ipython",
    "version": 3
   },
   "file_extension": ".py",
   "mimetype": "text/x-python",
   "name": "python",
   "nbconvert_exporter": "python",
   "pygments_lexer": "ipython3",
   "version": "3.7.4"
  }
 },
 "nbformat": 4,
 "nbformat_minor": 4
}
