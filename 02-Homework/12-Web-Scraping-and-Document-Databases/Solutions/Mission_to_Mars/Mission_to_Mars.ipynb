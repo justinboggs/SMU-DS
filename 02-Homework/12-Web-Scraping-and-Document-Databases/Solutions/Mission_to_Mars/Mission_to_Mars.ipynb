{
  "cells": [
    {
      "cell_type": "code",
      "source": [
        "# Import Splinter and BeautifulSoup\n",
        "from splinter import Browser\n",
        "from bs4 import BeautifulSoup"
      ],
      "outputs": [],
      "execution_count": 1,
      "metadata": {}
    },
    {
      "cell_type": "code",
      "source": [
        "# Path to chromedriver\n",
        "!which chromedriver"
      ],
      "outputs": [
        {
          "output_type": "stream",
          "name": "stdout",
          "text": [
            "/usr/local/bin/chromedriver\r\n"
          ]
        }
      ],
      "execution_count": 2,
      "metadata": {}
    },
    {
      "cell_type": "code",
      "source": [
        "# Set the executable path and initialize the chrome browser in splinter\n",
        "executable_path = {'executable_path': '/usr/local/bin/chromedriver'}\n",
        "browser = Browser('chrome', **executable_path)"
      ],
      "outputs": [],
      "execution_count": 3,
      "metadata": {}
    },
    {
      "cell_type": "markdown",
      "source": [
        "## Visit the NASA mars news site"
      ],
      "metadata": {}
    },
    {
      "cell_type": "code",
      "source": [
        "# Visit the mars nasa news site\n",
        "url = 'https://mars.nasa.gov/news/'\n",
        "browser.visit(url)\n",
        "\n",
        "# Optional delay for loading the page\n",
        "browser.is_element_present_by_css(\"ul.item_list li.slide\", wait_time=1)"
      ],
      "outputs": [
        {
          "output_type": "execute_result",
          "execution_count": 4,
          "data": {
            "text/plain": [
              "True"
            ]
          },
          "metadata": {}
        }
      ],
      "execution_count": 4,
      "metadata": {}
    },
    {
      "cell_type": "code",
      "source": [
        "# Convert the browser html to a soup object and then quit the browser\n",
        "html = browser.html\n",
        "news_soup = BeautifulSoup(html, 'html.parser')\n",
        "\n",
        "slide_elem = news_soup.select_one('ul.item_list li.slide')"
      ],
      "outputs": [],
      "execution_count": 5,
      "metadata": {}
    },
    {
      "cell_type": "code",
      "source": [
        "slide_elem.find(\"div\", class_='content_title')"
      ],
      "outputs": [
        {
          "output_type": "execute_result",
          "execution_count": 6,
          "data": {
            "text/plain": [
              "<div class=\"content_title\"><a href=\"/news/8436/why-this-martian-full-moon-looks-like-candy/\" target=\"_self\">Why This Martian Full Moon Looks Like Candy</a></div>"
            ]
          },
          "metadata": {}
        }
      ],
      "execution_count": 6,
      "metadata": {}
    },
    {
      "cell_type": "code",
      "source": [
        "# Use the parent element to find the first a tag and save it as `news_title`\n",
        "news_title = slide_elem.find(\"div\", class_='content_title').get_text()\n",
        "news_title"
      ],
      "outputs": [
        {
          "output_type": "execute_result",
          "execution_count": 7,
          "data": {
            "text/plain": [
              "'Why This Martian Full Moon Looks Like Candy'"
            ]
          },
          "metadata": {}
        }
      ],
      "execution_count": 7,
      "metadata": {}
    },
    {
      "cell_type": "code",
      "source": [
        "# Use the parent element to find the paragraph text\n",
        "news_p = slide_elem.find('div', class_=\"article_teaser_body\").get_text()\n",
        "news_p"
      ],
      "outputs": [
        {
          "output_type": "execute_result",
          "execution_count": 8,
          "data": {
            "text/plain": [
              "\"For the first time, NASA's Mars Odyssey orbiter has caught the Martian moon Phobos during a full moon phase. Each color in this new image represents a temperature range detected by Odyssey's infrared camera.\""
            ]
          },
          "metadata": {}
        }
      ],
      "execution_count": 8,
      "metadata": {}
    },
    {
      "cell_type": "markdown",
      "source": [
        "## JPL Space Images Featured Image"
      ],
      "metadata": {}
    },
    {
      "cell_type": "code",
      "source": [
        "# Visit URL\n",
        "url = 'https://www.jpl.nasa.gov/spaceimages/?search=&category=Mars'\n",
        "browser.visit(url)"
      ],
      "outputs": [],
      "execution_count": 9,
      "metadata": {}
    },
    {
      "cell_type": "code",
      "source": [
        "# Find and click the full image button\n",
        "full_image_elem = browser.find_by_id('full_image')\n",
        "full_image_elem.click()"
      ],
      "outputs": [],
      "execution_count": 10,
      "metadata": {}
    },
    {
      "cell_type": "code",
      "source": [
        "# Find the more info button and click that\n",
        "browser.is_element_present_by_text('more info', wait_time=1)\n",
        "more_info_elem = browser.find_link_by_partial_text('more info')\n",
        "more_info_elem.click()"
      ],
      "outputs": [],
      "execution_count": 11,
      "metadata": {}
    },
    {
      "cell_type": "code",
      "source": [
        "# Parse the resulting html with soup\n",
        "html = browser.html\n",
        "img_soup = BeautifulSoup(html, 'html.parser')"
      ],
      "outputs": [],
      "execution_count": 12,
      "metadata": {}
    },
    {
      "cell_type": "code",
      "source": [
        "# find the relative image url\n",
        "img_url_rel = img_soup.select_one('figure.lede a img').get(\"src\")\n",
        "img_url_rel"
      ],
      "outputs": [
        {
          "output_type": "execute_result",
          "execution_count": 13,
          "data": {
            "text/plain": [
              "'/spaceimages/images/largesize/PIA14925_hires.jpg'"
            ]
          },
          "metadata": {}
        }
      ],
      "execution_count": 13,
      "metadata": {}
    },
    {
      "cell_type": "code",
      "source": [
        "# Use the base url to create an absolute url\n",
        "img_url = f'https://www.jpl.nasa.gov{img_url_rel}'\n",
        "img_url"
      ],
      "outputs": [
        {
          "output_type": "execute_result",
          "execution_count": 14,
          "data": {
            "text/plain": [
              "'https://www.jpl.nasa.gov/spaceimages/images/largesize/PIA14925_hires.jpg'"
            ]
          },
          "metadata": {}
        }
      ],
      "execution_count": 14,
      "metadata": {}
    },
    {
      "cell_type": "markdown",
      "source": [
        "## Mars Weather"
      ],
      "metadata": {}
    },
    {
      "cell_type": "code",
      "source": [
        "url = 'https://twitter.com/marswxreport?lang=en'\n",
        "browser.visit(url)"
      ],
      "outputs": [],
      "execution_count": 15,
      "metadata": {}
    },
    {
      "cell_type": "code",
      "source": [
        "html = browser.html\n",
        "weather_soup = BeautifulSoup(html, 'html.parser')"
      ],
      "outputs": [],
      "execution_count": 16,
      "metadata": {}
    },
    {
      "cell_type": "code",
      "source": [
        "# First, find a tweet with the data-name `Mars Weather`\n",
        "mars_weather_tweet = weather_soup.find('div', attrs={\"class\": \"tweet\", \"data-name\": \"Mars Weather\"})"
      ],
      "outputs": [],
      "execution_count": 17,
      "metadata": {}
    },
    {
      "cell_type": "code",
      "source": [
        "# Next, search within the tweet for the p tag containing the tweet text\n",
        "mars_weather = mars_weather_tweet.find('p', 'tweet-text').get_text()\n",
        "mars_weather"
      ],
      "outputs": [
        {
          "output_type": "execute_result",
          "execution_count": 18,
          "data": {
            "text/plain": [
              "'InSight sol 162 (2019-05-12) low -100.2ºC (-148.3ºF) high -20.3ºC (-4.5ºF)\\nwinds from the SW at 4.5 m/s (10.1 mph) gusting to 14.3 m/s (32.0 mph)\\npressure at 7.50 hPapic.twitter.com/23uEPf5baF'"
            ]
          },
          "metadata": {}
        }
      ],
      "execution_count": 18,
      "metadata": {}
    },
    {
      "cell_type": "markdown",
      "source": [
        "## Mars Hemispheres"
      ],
      "metadata": {}
    },
    {
      "cell_type": "code",
      "source": [
        "url = 'https://astrogeology.usgs.gov/search/results?q=hemisphere+enhanced&k1=target&v1=Mars'\n",
        "browser.visit(url)"
      ],
      "outputs": [],
      "execution_count": 19,
      "metadata": {}
    },
    {
      "cell_type": "code",
      "source": [
        "hemisphere_image_urls = []\n",
        "\n",
        "# First, get a list of all of the hemispheres\n",
        "links = browser.find_by_css(\"a.product-item h3\")\n",
        "\n",
        "# Next, loop through those links, click the link, find the sample anchor, return the href\n",
        "for i in range(len(links)):\n",
        "    hemisphere = {}\n",
        "    \n",
        "    # We have to find the elements on each loop to avoid a stale element exception\n",
        "    browser.find_by_css(\"a.product-item h3\")[i].click()\n",
        "    \n",
        "    # Next, we find the Sample image anchor tag and extract the href\n",
        "    sample_elem = browser.find_link_by_text('Sample').first\n",
        "    hemisphere['img_url'] = sample_elem['href']\n",
        "    \n",
        "    # Get Hemisphere title\n",
        "    hemisphere['title'] = browser.find_by_css(\"h2.title\").text\n",
        "    \n",
        "    # Append hemisphere object to list\n",
        "    hemisphere_image_urls.append(hemisphere)\n",
        "    \n",
        "    # Finally, we navigate backwards\n",
        "    browser.back()\n",
        "    "
      ],
      "outputs": [],
      "execution_count": 20,
      "metadata": {}
    },
    {
      "cell_type": "code",
      "source": [
        "hemisphere_image_urls"
      ],
      "outputs": [
        {
          "output_type": "execute_result",
          "execution_count": 21,
          "data": {
            "text/plain": [
              "[{'img_url': 'http://astropedia.astrogeology.usgs.gov/download/Mars/Viking/cerberus_enhanced.tif/full.jpg',\n",
              "  'title': 'Cerberus Hemisphere Enhanced'},\n",
              " {'img_url': 'http://astropedia.astrogeology.usgs.gov/download/Mars/Viking/schiaparelli_enhanced.tif/full.jpg',\n",
              "  'title': 'Schiaparelli Hemisphere Enhanced'},\n",
              " {'img_url': 'http://astropedia.astrogeology.usgs.gov/download/Mars/Viking/syrtis_major_enhanced.tif/full.jpg',\n",
              "  'title': 'Syrtis Major Hemisphere Enhanced'},\n",
              " {'img_url': 'http://astropedia.astrogeology.usgs.gov/download/Mars/Viking/valles_marineris_enhanced.tif/full.jpg',\n",
              "  'title': 'Valles Marineris Hemisphere Enhanced'}]"
            ]
          },
          "metadata": {}
        }
      ],
      "execution_count": 21,
      "metadata": {}
    },
    {
      "cell_type": "markdown",
      "source": [
        "## Mars Facts"
      ],
      "metadata": {}
    },
    {
      "cell_type": "code",
      "source": [
        "import pandas as pd\n",
        "df = pd.read_html('https://space-facts.com/mars/')[0]\n",
        "df.columns=['description', 'value']\n",
        "df.set_index('description', inplace=True)\n",
        "df"
      ],
      "outputs": [
        {
          "output_type": "execute_result",
          "execution_count": 22,
          "data": {
            "text/html": [
              "<div>\n",
              "<style scoped>\n",
              "    .dataframe tbody tr th:only-of-type {\n",
              "        vertical-align: middle;\n",
              "    }\n",
              "\n",
              "    .dataframe tbody tr th {\n",
              "        vertical-align: top;\n",
              "    }\n",
              "\n",
              "    .dataframe thead th {\n",
              "        text-align: right;\n",
              "    }\n",
              "</style>\n",
              "<table border=\"1\" class=\"dataframe\">\n",
              "  <thead>\n",
              "    <tr style=\"text-align: right;\">\n",
              "      <th></th>\n",
              "      <th>value</th>\n",
              "    </tr>\n",
              "    <tr>\n",
              "      <th>description</th>\n",
              "      <th></th>\n",
              "    </tr>\n",
              "  </thead>\n",
              "  <tbody>\n",
              "    <tr>\n",
              "      <th>Equatorial Diameter:</th>\n",
              "      <td>6,792 km</td>\n",
              "    </tr>\n",
              "    <tr>\n",
              "      <th>Polar Diameter:</th>\n",
              "      <td>6,752 km</td>\n",
              "    </tr>\n",
              "    <tr>\n",
              "      <th>Mass:</th>\n",
              "      <td>6.42 x 10^23 kg (10.7% Earth)</td>\n",
              "    </tr>\n",
              "    <tr>\n",
              "      <th>Moons:</th>\n",
              "      <td>2 (Phobos &amp; Deimos)</td>\n",
              "    </tr>\n",
              "    <tr>\n",
              "      <th>Orbit Distance:</th>\n",
              "      <td>227,943,824 km (1.52 AU)</td>\n",
              "    </tr>\n",
              "    <tr>\n",
              "      <th>Orbit Period:</th>\n",
              "      <td>687 days (1.9 years)</td>\n",
              "    </tr>\n",
              "    <tr>\n",
              "      <th>Surface Temperature:</th>\n",
              "      <td>-153 to 20 °C</td>\n",
              "    </tr>\n",
              "    <tr>\n",
              "      <th>First Record:</th>\n",
              "      <td>2nd millennium BC</td>\n",
              "    </tr>\n",
              "    <tr>\n",
              "      <th>Recorded By:</th>\n",
              "      <td>Egyptian astronomers</td>\n",
              "    </tr>\n",
              "  </tbody>\n",
              "</table>\n",
              "</div>"
            ],
            "text/plain": [
              "                                              value\n",
              "description                                        \n",
              "Equatorial Diameter:                       6,792 km\n",
              "Polar Diameter:                            6,752 km\n",
              "Mass:                 6.42 x 10^23 kg (10.7% Earth)\n",
              "Moons:                          2 (Phobos & Deimos)\n",
              "Orbit Distance:            227,943,824 km (1.52 AU)\n",
              "Orbit Period:                  687 days (1.9 years)\n",
              "Surface Temperature:                  -153 to 20 °C\n",
              "First Record:                     2nd millennium BC\n",
              "Recorded By:                   Egyptian astronomers"
            ]
          },
          "metadata": {}
        }
      ],
      "execution_count": 22,
      "metadata": {}
    },
    {
      "cell_type": "code",
      "source": [
        "df.to_html()"
      ],
      "outputs": [
        {
          "output_type": "execute_result",
          "execution_count": 23,
          "data": {
            "text/plain": [
              "'<table border=\"1\" class=\"dataframe\">\\n  <thead>\\n    <tr style=\"text-align: right;\">\\n      <th></th>\\n      <th>value</th>\\n    </tr>\\n    <tr>\\n      <th>description</th>\\n      <th></th>\\n    </tr>\\n  </thead>\\n  <tbody>\\n    <tr>\\n      <th>Equatorial Diameter:</th>\\n      <td>6,792 km</td>\\n    </tr>\\n    <tr>\\n      <th>Polar Diameter:</th>\\n      <td>6,752 km</td>\\n    </tr>\\n    <tr>\\n      <th>Mass:</th>\\n      <td>6.42 x 10^23 kg (10.7% Earth)</td>\\n    </tr>\\n    <tr>\\n      <th>Moons:</th>\\n      <td>2 (Phobos &amp; Deimos)</td>\\n    </tr>\\n    <tr>\\n      <th>Orbit Distance:</th>\\n      <td>227,943,824 km (1.52 AU)</td>\\n    </tr>\\n    <tr>\\n      <th>Orbit Period:</th>\\n      <td>687 days (1.9 years)</td>\\n    </tr>\\n    <tr>\\n      <th>Surface Temperature:</th>\\n      <td>-153 to 20 °C</td>\\n    </tr>\\n    <tr>\\n      <th>First Record:</th>\\n      <td>2nd millennium BC</td>\\n    </tr>\\n    <tr>\\n      <th>Recorded By:</th>\\n      <td>Egyptian astronomers</td>\\n    </tr>\\n  </tbody>\\n</table>'"
            ]
          },
          "metadata": {}
        }
      ],
      "execution_count": 23,
      "metadata": {}
    },
    {
      "cell_type": "code",
      "source": [
        "browser.quit()"
      ],
      "outputs": [],
      "execution_count": 24,
      "metadata": {}
    }
  ],
  "metadata": {
    "kernel_info": {
      "name": "python3"
    },
    "kernelspec": {
      "display_name": "Python [default]",
      "language": "python",
      "name": "python3"
    },
    "language_info": {
      "codemirror_mode": {
        "name": "ipython",
        "version": 3
      },
      "file_extension": ".py",
      "mimetype": "text/x-python",
      "name": "python",
      "nbconvert_exporter": "python",
      "pygments_lexer": "ipython3",
      "version": "3.6.5"
    },
    "nteract": {
      "version": "0.21.0"
    }
  },
  "nbformat": 4,
  "nbformat_minor": 2
}