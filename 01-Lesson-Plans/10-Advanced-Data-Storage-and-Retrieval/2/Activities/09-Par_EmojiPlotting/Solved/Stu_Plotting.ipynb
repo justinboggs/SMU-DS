{
  "cells": [
    {
      "cell_type": "markdown",
      "source": [
        "# Plotting Query Results"
      ],
      "metadata": {
        "slideshow": {
          "slide_type": "slide"
        }
      }
    },
    {
      "cell_type": "markdown",
      "source": [
        "## Setup"
      ],
      "metadata": {
        "slideshow": {
          "slide_type": "slide"
        }
      }
    },
    {
      "cell_type": "code",
      "source": [
        "# Import Matplot lib\n",
        "import matplotlib\n",
        "from matplotlib import style\n",
        "style.use('seaborn')\n",
        "import matplotlib.pyplot as plt"
      ],
      "outputs": [],
      "execution_count": 1,
      "metadata": {
        "collapsed": true,
        "nbgrader": {
          "grade": false,
          "grade_id": "cell-e510ac54ba806bbd",
          "locked": false,
          "schema_version": 1,
          "solution": true
        },
        "slideshow": {
          "slide_type": "subslide"
        }
      }
    },
    {
      "cell_type": "code",
      "source": [
        "import pandas as pd"
      ],
      "outputs": [],
      "execution_count": 2,
      "metadata": {
        "collapsed": true,
        "slideshow": {
          "slide_type": "subslide"
        }
      }
    },
    {
      "cell_type": "code",
      "source": [
        "# Import SQLAlchemy `automap` and other dependencies here\n",
        "import sqlalchemy\n",
        "from sqlalchemy.ext.automap import automap_base\n",
        "from sqlalchemy.orm import Session\n",
        "from sqlalchemy import create_engine, inspect, func"
      ],
      "outputs": [],
      "execution_count": 3,
      "metadata": {
        "collapsed": true,
        "nbgrader": {
          "grade": false,
          "grade_id": "cell-921fdfc7ea01c680",
          "locked": false,
          "schema_version": 1,
          "solution": true
        },
        "slideshow": {
          "slide_type": "subslide"
        }
      }
    },
    {
      "cell_type": "code",
      "source": [
        "# Create an engine for the `emoji.sqlite` database\n",
        "engine = create_engine(\"sqlite:///../Resources/emoji.sqlite\", echo=False)"
      ],
      "outputs": [],
      "execution_count": 4,
      "metadata": {
        "collapsed": true,
        "nbgrader": {
          "grade": false,
          "grade_id": "cell-efd553d6954b61df",
          "locked": false,
          "schema_version": 1,
          "solution": true
        },
        "slideshow": {
          "slide_type": "subslide"
        }
      }
    },
    {
      "cell_type": "markdown",
      "source": [
        "## Explore Database"
      ],
      "metadata": {
        "slideshow": {
          "slide_type": "slide"
        }
      }
    },
    {
      "cell_type": "code",
      "source": [
        "# Use the Inspector to explore the database and print the table names\n",
        "inspector = inspect(engine)\n",
        "inspector.get_table_names()"
      ],
      "outputs": [
        {
          "output_type": "execute_result",
          "execution_count": 5,
          "data": {
            "text/plain": [
              "['emoji']"
            ]
          },
          "metadata": {}
        }
      ],
      "execution_count": 5,
      "metadata": {
        "nbgrader": {
          "grade": false,
          "grade_id": "cell-0e48aa1f13dad563",
          "locked": false,
          "schema_version": 1,
          "solution": true
        },
        "slideshow": {
          "slide_type": "subslide"
        }
      }
    },
    {
      "cell_type": "code",
      "source": [
        "# Use Inspector to print the column names and types\n",
        "columns = inspector.get_columns('emoji')\n",
        "for c in columns:\n",
        "    print(c['name'], c[\"type\"])"
      ],
      "outputs": [
        {
          "output_type": "stream",
          "name": "stdout",
          "text": [
            "id INTEGER\n",
            "emoji_char TEXT\n",
            "emoji_id TEXT\n",
            "name TEXT\n",
            "score INTEGER\n"
          ]
        }
      ],
      "execution_count": 6,
      "metadata": {
        "nbgrader": {
          "grade": false,
          "grade_id": "cell-087efd9d2f394098",
          "locked": false,
          "schema_version": 1,
          "solution": true
        },
        "slideshow": {
          "slide_type": "subslide"
        }
      }
    },
    {
      "cell_type": "code",
      "source": [
        "# Use `engine.execute` to select and display the first 10 rows from the emoji table\n",
        "engine.execute('SELECT * FROM emoji LIMIT 10').fetchall()"
      ],
      "outputs": [
        {
          "output_type": "execute_result",
          "execution_count": 7,
          "data": {
            "text/plain": [
              "[(1, '😂', '1F602', 'FACE WITH TEARS OF JOY', 1814832150),\n",
              " (2, '❤️', '2764', 'HEAVY BLACK HEART', 840619939),\n",
              " (3, '😍', '1F60D', 'SMILING FACE WITH HEART-SHAPED EYES', 680382416),\n",
              " (4, '♥️', '2665', 'BLACK HEART SUIT', 652715459),\n",
              " (5, '😭', '1F62D', 'LOUDLY CRYING FACE', 515991922),\n",
              " (6, '😊', '1F60A', 'SMILING FACE WITH SMILING EYES', 484540701),\n",
              " (7, '♻️', '267B', 'BLACK UNIVERSAL RECYCLING SYMBOL', 452489849),\n",
              " (8, '😒', '1F612', 'UNAMUSED FACE', 441690175),\n",
              " (9, '💕', '1F495', 'TWO HEARTS', 381679908),\n",
              " (10, '😘', '1F618', 'FACE THROWING A KISS', 377847645)]"
            ]
          },
          "metadata": {}
        }
      ],
      "execution_count": 7,
      "metadata": {
        "nbgrader": {
          "grade": false,
          "grade_id": "cell-d7b08585acddc3cc",
          "locked": false,
          "schema_version": 1,
          "solution": true
        },
        "slideshow": {
          "slide_type": "subslide"
        }
      }
    },
    {
      "cell_type": "markdown",
      "source": [
        "## Reflect database and Query"
      ],
      "metadata": {
        "slideshow": {
          "slide_type": "slide"
        }
      }
    },
    {
      "cell_type": "code",
      "source": [
        "# Reflect Database into ORM class\n",
        "Base = automap_base()\n",
        "Base.prepare(engine, reflect=True)\n",
        "Emoji = Base.classes.emoji"
      ],
      "outputs": [],
      "execution_count": 8,
      "metadata": {
        "collapsed": true,
        "slideshow": {
          "slide_type": "subslide"
        }
      }
    },
    {
      "cell_type": "code",
      "source": [
        "# Start a session to query the database\n",
        "session = Session(engine)"
      ],
      "outputs": [],
      "execution_count": 9,
      "metadata": {
        "collapsed": true,
        "slideshow": {
          "slide_type": "fragment"
        }
      }
    },
    {
      "cell_type": "markdown",
      "source": [
        "Use Matplotlib to create a horizontal bar chart and plot the emoji `score` in descending order. Use `emoji_char` as the y-axis labels. Plot only the top 10 emojis ranked by score"
      ],
      "metadata": {
        "slideshow": {
          "slide_type": "subslide"
        }
      }
    },
    {
      "cell_type": "code",
      "source": [
        "# Query Emojis for `emoji_char`, `emoji_id`, and `score` and save the query into results\n",
        "results = session.query(Emoji.emoji_char, Emoji.emoji_id, Emoji.score).\\\n",
        "    order_by(Emoji.score.desc()).all()"
      ],
      "outputs": [],
      "execution_count": 10,
      "metadata": {
        "collapsed": true,
        "nbgrader": {
          "grade": false,
          "grade_id": "cell-f542e9079952a0d2",
          "locked": false,
          "schema_version": 1,
          "solution": true
        },
        "slideshow": {
          "slide_type": "fragment"
        }
      }
    },
    {
      "cell_type": "markdown",
      "source": [
        "Unpack tuples using list comprehensions"
      ],
      "metadata": {
        "slideshow": {
          "slide_type": "subslide"
        }
      }
    },
    {
      "cell_type": "code",
      "source": [
        "# Unpack the `emoji_id` and `scores` from results and save into separate lists\n",
        "emoji_id = [result[1] for result in results[:10]]\n",
        "scores = [int(result[2]) for result in results[:10]]"
      ],
      "outputs": [],
      "execution_count": 11,
      "metadata": {
        "collapsed": true,
        "nbgrader": {
          "grade": false,
          "grade_id": "cell-cb3a057af2014c2c",
          "locked": false,
          "schema_version": 1,
          "solution": true
        },
        "slideshow": {
          "slide_type": "fragment"
        }
      }
    },
    {
      "cell_type": "markdown",
      "source": [
        "## Plot using Matplotlib"
      ],
      "metadata": {
        "slideshow": {
          "slide_type": "slide"
        }
      }
    },
    {
      "cell_type": "code",
      "source": [
        "# Create a horizontal bar chart and plot the `emoji_id` on the y-axis and the `score` on the x-axis\n",
        "# Challenge: Try to plot the scores in descending order on the graph (The largest score is at the top)\n",
        "fig, ax = plt.subplots()\n",
        "ypos = range(1, len(scores)+1)\n",
        "ax.barh(ypos, scores[::-1])\n",
        "ax.set_xlabel(\"score\")\n",
        "ax.set_ylabel(\"emoji\")\n",
        "ax.set_yticks(ypos)\n",
        "ax.set_yticklabels(emoji_id[::-1])\n",
        "ax.set_title(\"Emoji Scores\")\n",
        "fig.tight_layout()\n",
        "plt.show()"
      ],
      "outputs": [
        {
          "output_type": "display_data",
          "data": {
            "image/png": "[encoded data removed]",
            "text/plain": [
              "<Figure size 432x288 with 1 Axes>"
            ]
          },
          "metadata": {}
        }
      ],
      "execution_count": 12,
      "metadata": {
        "nbgrader": {
          "grade": false,
          "grade_id": "cell-80891ad9d9412629",
          "locked": false,
          "schema_version": 1,
          "solution": true
        },
        "slideshow": {
          "slide_type": "subslide"
        }
      }
    },
    {
      "cell_type": "markdown",
      "source": [
        "## Plot using Pandas Plotting"
      ],
      "metadata": {
        "slideshow": {
          "slide_type": "slide"
        }
      }
    },
    {
      "cell_type": "markdown",
      "source": [
        "Load the results into a Pandas DataFrame"
      ],
      "metadata": {
        "slideshow": {
          "slide_type": "subslide"
        }
      }
    },
    {
      "cell_type": "code",
      "source": [
        "# Load the results into a pandas dataframe. Set the index to the `emoji_id`\n",
        "df = pd.DataFrame(results[:10], columns=['emoji_char', 'emoji_id', 'score'])\n",
        "df.set_index('emoji_id', inplace=True, )\n",
        "df.head(10)"
      ],
      "outputs": [
        {
          "output_type": "execute_result",
          "execution_count": 13,
          "data": {
            "text/html": [
              "<div>\n",
              "<style scoped>\n",
              "    .dataframe tbody tr th:only-of-type {\n",
              "        vertical-align: middle;\n",
              "    }\n",
              "\n",
              "    .dataframe tbody tr th {\n",
              "        vertical-align: top;\n",
              "    }\n",
              "\n",
              "    .dataframe thead th {\n",
              "        text-align: right;\n",
              "    }\n",
              "</style>\n",
              "<table border=\"1\" class=\"dataframe\">\n",
              "  <thead>\n",
              "    <tr style=\"text-align: right;\">\n",
              "      <th></th>\n",
              "      <th>emoji_char</th>\n",
              "      <th>score</th>\n",
              "    </tr>\n",
              "    <tr>\n",
              "      <th>emoji_id</th>\n",
              "      <th></th>\n",
              "      <th></th>\n",
              "    </tr>\n",
              "  </thead>\n",
              "  <tbody>\n",
              "    <tr>\n",
              "      <th>1F602</th>\n",
              "      <td>😂</td>\n",
              "      <td>1814832150</td>\n",
              "    </tr>\n",
              "    <tr>\n",
              "      <th>2764</th>\n",
              "      <td>❤️</td>\n",
              "      <td>840619939</td>\n",
              "    </tr>\n",
              "    <tr>\n",
              "      <th>1F60D</th>\n",
              "      <td>😍</td>\n",
              "      <td>680382416</td>\n",
              "    </tr>\n",
              "    <tr>\n",
              "      <th>2665</th>\n",
              "      <td>♥️</td>\n",
              "      <td>652715459</td>\n",
              "    </tr>\n",
              "    <tr>\n",
              "      <th>1F62D</th>\n",
              "      <td>😭</td>\n",
              "      <td>515991922</td>\n",
              "    </tr>\n",
              "    <tr>\n",
              "      <th>1F60A</th>\n",
              "      <td>😊</td>\n",
              "      <td>484540701</td>\n",
              "    </tr>\n",
              "    <tr>\n",
              "      <th>267B</th>\n",
              "      <td>♻️</td>\n",
              "      <td>452489849</td>\n",
              "    </tr>\n",
              "    <tr>\n",
              "      <th>1F612</th>\n",
              "      <td>😒</td>\n",
              "      <td>441690175</td>\n",
              "    </tr>\n",
              "    <tr>\n",
              "      <th>1F495</th>\n",
              "      <td>💕</td>\n",
              "      <td>381679908</td>\n",
              "    </tr>\n",
              "    <tr>\n",
              "      <th>1F618</th>\n",
              "      <td>😘</td>\n",
              "      <td>377847645</td>\n",
              "    </tr>\n",
              "  </tbody>\n",
              "</table>\n",
              "</div>"
            ],
            "text/plain": [
              "         emoji_char       score\n",
              "emoji_id                       \n",
              "1F602             😂  1814832150\n",
              "2764             ❤️   840619939\n",
              "1F60D             😍   680382416\n",
              "2665             ♥️   652715459\n",
              "1F62D             😭   515991922\n",
              "1F60A             😊   484540701\n",
              "267B             ♻️   452489849\n",
              "1F612             😒   441690175\n",
              "1F495             💕   381679908\n",
              "1F618             😘   377847645"
            ]
          },
          "metadata": {}
        }
      ],
      "execution_count": 13,
      "metadata": {
        "nbgrader": {
          "grade": false,
          "grade_id": "cell-8f9936e71374d442",
          "locked": false,
          "schema_version": 1,
          "solution": true
        },
        "slideshow": {
          "slide_type": "fragment"
        }
      }
    },
    {
      "cell_type": "markdown",
      "source": [
        "Plot using Pandas"
      ],
      "metadata": {
        "slideshow": {
          "slide_type": "subslide"
        }
      }
    },
    {
      "cell_type": "code",
      "source": [
        "# Plot the dataframe as a horizontal bar chart using pandas plotting\n",
        "df.iloc[::-1].plot.barh(title=\"emoji ranking\")\n",
        "plt.tight_layout()\n",
        "plt.show()"
      ],
      "outputs": [
        {
          "output_type": "display_data",
          "data": {
            "image/png": "[encoded data removed]",
            "text/plain": [
              "<Figure size 432x288 with 1 Axes>"
            ]
          },
          "metadata": {}
        }
      ],
      "execution_count": 14,
      "metadata": {
        "nbgrader": {
          "grade": false,
          "grade_id": "cell-9684754419fc6916",
          "locked": false,
          "schema_version": 1,
          "solution": true
        },
        "slideshow": {
          "slide_type": "fragment"
        }
      }
    },
    {
      "cell_type": "code",
      "source": [
        "# BONUS: Use Pandas `read_sql_query` to load a query statement directly into the DataFrame\n",
        "stmt = session.query(Emoji).\\\n",
        "    order_by(Emoji.score.desc()).statement\n",
        "df2 = pd.read_sql_query(stmt, session.bind)\n",
        "df2.head(10)"
      ],
      "outputs": [
        {
          "output_type": "execute_result",
          "execution_count": 15,
          "data": {
            "text/html": [
              "<div>\n",
              "<style scoped>\n",
              "    .dataframe tbody tr th:only-of-type {\n",
              "        vertical-align: middle;\n",
              "    }\n",
              "\n",
              "    .dataframe tbody tr th {\n",
              "        vertical-align: top;\n",
              "    }\n",
              "\n",
              "    .dataframe thead th {\n",
              "        text-align: right;\n",
              "    }\n",
              "</style>\n",
              "<table border=\"1\" class=\"dataframe\">\n",
              "  <thead>\n",
              "    <tr style=\"text-align: right;\">\n",
              "      <th></th>\n",
              "      <th>id</th>\n",
              "      <th>emoji_char</th>\n",
              "      <th>emoji_id</th>\n",
              "      <th>name</th>\n",
              "      <th>score</th>\n",
              "    </tr>\n",
              "  </thead>\n",
              "  <tbody>\n",
              "    <tr>\n",
              "      <th>0</th>\n",
              "      <td>1</td>\n",
              "      <td>😂</td>\n",
              "      <td>1F602</td>\n",
              "      <td>FACE WITH TEARS OF JOY</td>\n",
              "      <td>1814832150</td>\n",
              "    </tr>\n",
              "    <tr>\n",
              "      <th>1</th>\n",
              "      <td>2</td>\n",
              "      <td>❤️</td>\n",
              "      <td>2764</td>\n",
              "      <td>HEAVY BLACK HEART</td>\n",
              "      <td>840619939</td>\n",
              "    </tr>\n",
              "    <tr>\n",
              "      <th>2</th>\n",
              "      <td>3</td>\n",
              "      <td>😍</td>\n",
              "      <td>1F60D</td>\n",
              "      <td>SMILING FACE WITH HEART-SHAPED EYES</td>\n",
              "      <td>680382416</td>\n",
              "    </tr>\n",
              "    <tr>\n",
              "      <th>3</th>\n",
              "      <td>4</td>\n",
              "      <td>♥️</td>\n",
              "      <td>2665</td>\n",
              "      <td>BLACK HEART SUIT</td>\n",
              "      <td>652715459</td>\n",
              "    </tr>\n",
              "    <tr>\n",
              "      <th>4</th>\n",
              "      <td>5</td>\n",
              "      <td>😭</td>\n",
              "      <td>1F62D</td>\n",
              "      <td>LOUDLY CRYING FACE</td>\n",
              "      <td>515991922</td>\n",
              "    </tr>\n",
              "    <tr>\n",
              "      <th>5</th>\n",
              "      <td>6</td>\n",
              "      <td>😊</td>\n",
              "      <td>1F60A</td>\n",
              "      <td>SMILING FACE WITH SMILING EYES</td>\n",
              "      <td>484540701</td>\n",
              "    </tr>\n",
              "    <tr>\n",
              "      <th>6</th>\n",
              "      <td>7</td>\n",
              "      <td>♻️</td>\n",
              "      <td>267B</td>\n",
              "      <td>BLACK UNIVERSAL RECYCLING SYMBOL</td>\n",
              "      <td>452489849</td>\n",
              "    </tr>\n",
              "    <tr>\n",
              "      <th>7</th>\n",
              "      <td>8</td>\n",
              "      <td>😒</td>\n",
              "      <td>1F612</td>\n",
              "      <td>UNAMUSED FACE</td>\n",
              "      <td>441690175</td>\n",
              "    </tr>\n",
              "    <tr>\n",
              "      <th>8</th>\n",
              "      <td>9</td>\n",
              "      <td>💕</td>\n",
              "      <td>1F495</td>\n",
              "      <td>TWO HEARTS</td>\n",
              "      <td>381679908</td>\n",
              "    </tr>\n",
              "    <tr>\n",
              "      <th>9</th>\n",
              "      <td>10</td>\n",
              "      <td>😘</td>\n",
              "      <td>1F618</td>\n",
              "      <td>FACE THROWING A KISS</td>\n",
              "      <td>377847645</td>\n",
              "    </tr>\n",
              "  </tbody>\n",
              "</table>\n",
              "</div>"
            ],
            "text/plain": [
              "   id emoji_char emoji_id                                 name       score\n",
              "0   1          😂    1F602               FACE WITH TEARS OF JOY  1814832150\n",
              "1   2         ❤️     2764                    HEAVY BLACK HEART   840619939\n",
              "2   3          😍    1F60D  SMILING FACE WITH HEART-SHAPED EYES   680382416\n",
              "3   4         ♥️     2665                     BLACK HEART SUIT   652715459\n",
              "4   5          😭    1F62D                   LOUDLY CRYING FACE   515991922\n",
              "5   6          😊    1F60A       SMILING FACE WITH SMILING EYES   484540701\n",
              "6   7         ♻️     267B     BLACK UNIVERSAL RECYCLING SYMBOL   452489849\n",
              "7   8          😒    1F612                        UNAMUSED FACE   441690175\n",
              "8   9          💕    1F495                           TWO HEARTS   381679908\n",
              "9  10          😘    1F618                 FACE THROWING A KISS   377847645"
            ]
          },
          "metadata": {}
        }
      ],
      "execution_count": 15,
      "metadata": {
        "nbgrader": {
          "grade": false,
          "grade_id": "cell-e4fbc88164f5ce01",
          "locked": false,
          "schema_version": 1,
          "solution": true
        }
      }
    }
  ],
  "metadata": {
    "celltoolbar": "Create Assignment",
    "kernelspec": {
      "display_name": "Python 3",
      "language": "python",
      "name": "python3"
    },
    "language_info": {
      "codemirror_mode": {
        "name": "ipython",
        "version": 3
      },
      "file_extension": ".py",
      "mimetype": "text/x-python",
      "name": "python",
      "nbconvert_exporter": "python",
      "pygments_lexer": "ipython3",
      "version": "3.6.3"
    },
    "varInspector": {
      "cols": {
        "lenName": 16,
        "lenType": 16,
        "lenVar": 40
      },
      "kernels_config": {
        "python": {
          "delete_cmd_postfix": "",
          "delete_cmd_prefix": "del ",
          "library": "var_list.py",
          "varRefreshCmd": "print(var_dic_list())"
        },
        "r": {
          "delete_cmd_postfix": ") ",
          "delete_cmd_prefix": "rm(",
          "library": "var_list.r",
          "varRefreshCmd": "cat(var_dic_list()) "
        }
      },
      "types_to_exclude": [
        "module",
        "function",
        "builtin_function_or_method",
        "instance",
        "_Feature"
      ],
      "window_display": false
    },
    "nteract": {
      "version": "0.21.0"
    }
  },
  "nbformat": 4,
  "nbformat_minor": 2
}